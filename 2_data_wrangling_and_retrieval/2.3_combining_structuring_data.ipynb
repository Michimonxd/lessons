{
 "cells": [
  {
   "cell_type": "markdown",
   "metadata": {
    "id": "ZharljNsul_m",
    "toc": true
   },
   "source": [
    "<h1>Table of Contents<span class=\"tocSkip\"></span></h1>\n",
    "<div class=\"toc\"><ul class=\"toc-item\"><li><span><a href=\"#Data-Transformation:-Combining-and-Structuring-Data\" data-toc-modified-id=\"Data-Transformation:-Combining-and-Structuring-Data-1\"><span class=\"toc-item-num\">1&nbsp;&nbsp;</span>Data Transformation: Combining and Structuring Data</a></span><ul class=\"toc-item\"><li><span><a href=\"#Combining-Data\" data-toc-modified-id=\"Combining-Data-1.1\"><span class=\"toc-item-num\">1.1&nbsp;&nbsp;</span>Combining Data</a></span><ul class=\"toc-item\"><li><span><a href=\"#concat\" data-toc-modified-id=\"concat-1.1.1\"><span class=\"toc-item-num\">1.1.1&nbsp;&nbsp;</span><code>concat</code></a></span><ul class=\"toc-item\"><li><span><a href=\"#axis=0\" data-toc-modified-id=\"axis=0-1.1.1.1\"><span class=\"toc-item-num\">1.1.1.1&nbsp;&nbsp;</span><code>axis=0</code></a></span></li><li><span><a href=\"#axis=1\" data-toc-modified-id=\"axis=1-1.1.1.2\"><span class=\"toc-item-num\">1.1.1.2&nbsp;&nbsp;</span><code>axis=1</code></a></span></li><li><span><a href=\"#join=&quot;inner&quot;\" data-toc-modified-id=\"join=&quot;inner&quot;-1.1.1.3\"><span class=\"toc-item-num\">1.1.1.3&nbsp;&nbsp;</span><code>join=\"inner\"</code></a></span></li></ul></li><li><span><a href=\"#merge\" data-toc-modified-id=\"merge-1.1.2\"><span class=\"toc-item-num\">1.1.2&nbsp;&nbsp;</span><code>merge</code></a></span></li><li><span><a href=\"#join\" data-toc-modified-id=\"join-1.1.3\"><span class=\"toc-item-num\">1.1.3&nbsp;&nbsp;</span><code>join</code></a></span></li><li><span><a href=\"#Summary\" data-toc-modified-id=\"Summary-1.1.4\"><span class=\"toc-item-num\">1.1.4&nbsp;&nbsp;</span>Summary</a></span></li><li><span><a href=\"#💡-Check-for-understanding\" data-toc-modified-id=\"💡-Check-for-understanding-1.1.5\"><span class=\"toc-item-num\">1.1.5&nbsp;&nbsp;</span>💡 Check for understanding</a></span></li></ul></li><li><span><a href=\"#Structuring-Data-with-Pivot,-Stack/Unstack,-and-Melt\" data-toc-modified-id=\"Structuring-Data-with-Pivot,-Stack/Unstack,-and-Melt-1.2\"><span class=\"toc-item-num\">1.2&nbsp;&nbsp;</span>Structuring Data with Pivot, Stack/Unstack, and Melt</a></span><ul class=\"toc-item\"><li><span><a href=\"#Pivot\" data-toc-modified-id=\"Pivot-1.2.1\"><span class=\"toc-item-num\">1.2.1&nbsp;&nbsp;</span>Pivot</a></span></li><li><span><a href=\"#Stack-and-Unstack\" data-toc-modified-id=\"Stack-and-Unstack-1.2.2\"><span class=\"toc-item-num\">1.2.2&nbsp;&nbsp;</span>Stack and Unstack</a></span></li><li><span><a href=\"#Melt\" data-toc-modified-id=\"Melt-1.2.3\"><span class=\"toc-item-num\">1.2.3&nbsp;&nbsp;</span>Melt</a></span></li><li><span><a href=\"#Summary\" data-toc-modified-id=\"Summary-1.2.4\"><span class=\"toc-item-num\">1.2.4&nbsp;&nbsp;</span>Summary</a></span></li><li><span><a href=\"#💡-Check-for-understanding\" data-toc-modified-id=\"💡-Check-for-understanding-1.2.5\"><span class=\"toc-item-num\">1.2.5&nbsp;&nbsp;</span>💡 Check for understanding</a></span></li></ul></li></ul></li></ul></div>"
   ]
  },
  {
   "cell_type": "markdown",
   "metadata": {
    "id": "DELJNOmjul_r"
   },
   "source": [
    "# Data Transformation: Combining and Structuring Data"
   ]
  },
  {
   "cell_type": "markdown",
   "metadata": {
    "id": "CmkUZc6Uul_r"
   },
   "source": [
    "## Combining Data\n",
    "\n",
    "When working with data, you often encounter situations where you need to combine or merge multiple datasets to gain more insights or perform further analysis.\n",
    "\n",
    "Pandas provides functions for [combining different data sets](http://pandas.pydata.org/pandas-docs/stable/merging.html) based on [relational algebra](https://en.wikipedia.org/wiki/Relational_algebra): `join`, `merge` and `concat`."
   ]
  },
  {
   "cell_type": "code",
   "execution_count": 3,
   "metadata": {
    "id": "ZQ6w3WTLul_s"
   },
   "outputs": [],
   "source": [
    "import pandas as pd\n",
    "\n",
    "# DataFrame 1: Sales information\n",
    "df_sales = pd.DataFrame({\n",
    "    'Date': ['2023-01-01', '2023-01-02', '2023-01-03', '2023-01-04'],\n",
    "    'Product': ['A', 'B', 'C', 'D'],\n",
    "    'Quantity_Sold': [100, 200, 150, 120]\n",
    "})\n",
    "\n",
    "# DataFrame 2: Revenue information\n",
    "df_revenue = pd.DataFrame({\n",
    "    'Date': ['2023-01-01', '2023-01-02', '2023-01-03', '2023-01-05'],\n",
    "    'Revenue': [1000, 1500, 1200, 800]\n",
    "})\n",
    "\n",
    "# DataFrame 3: Costs information\n",
    "df_costs = pd.DataFrame({\n",
    "    'Date': ['2023-01-01', '2023-01-03', '2023-01-04', '2023-01-05'],\n",
    "    'Costs': [500, 700, 600, 400]\n",
    "})\n",
    "\n",
    "# DataFrame 1: Sales information next 4 months\n",
    "df_sales_2 = pd.DataFrame({\n",
    "    'Date': ['2023-01-05', '2023-01-06', '2023-01-07', '2023-01-08'],\n",
    "    'Product': ['A', 'B', 'C', 'D'],\n",
    "    'Quantity_Sold': [100, 200, 150, 120]\n",
    "})"
   ]
  },
  {
   "cell_type": "markdown",
   "metadata": {
    "id": "2um5_QD9ul_s"
   },
   "source": [
    "### `concat`\n",
    "\n",
    "- `concat` is usually used when you want to combine two or more DataFrames vertically or horizontally.\n",
    "- It is commonly used when you have data split across multiple files or sources and want to stack them together to create a larger dataset.\n",
    "- Vertical concatenation is used when you want to add more rows to an existing DataFrame.\n",
    "- Horizontal concatenation is used when you want to add more columns to an existing DataFrame.\n",
    "- Example: combining monthly or yearly sales data: Suppose you have sales data for a retail store split across multiple files, where each file contains sales data for a specific month or year. You can use concat to vertically stack these DataFrames and create a single DataFrame containing the complete sales data for all months or years."
   ]
  },
  {
   "cell_type": "markdown",
   "metadata": {
    "id": "u29jqUJ8ul_s"
   },
   "source": [
    "`pd.concat` is used to concatenate multiple DataFrames.\n",
    "- The `axis` parameter determines the axis along which the DataFrames will be stacked. `axis=0` (the default) stacks the DataFrames vertically (along rows), while `axis=1` stacks them horizontally (along columns)."
   ]
  },
  {
   "cell_type": "markdown",
   "metadata": {
    "id": "CM_1JeCEul_s"
   },
   "source": [
    "#### `axis=0`"
   ]
  },
  {
   "cell_type": "code",
   "execution_count": 5,
   "metadata": {
    "id": "161xLJIvul_t"
   },
   "outputs": [
    {
     "data": {
      "text/html": [
       "<div>\n",
       "<style scoped>\n",
       "    .dataframe tbody tr th:only-of-type {\n",
       "        vertical-align: middle;\n",
       "    }\n",
       "\n",
       "    .dataframe tbody tr th {\n",
       "        vertical-align: top;\n",
       "    }\n",
       "\n",
       "    .dataframe thead th {\n",
       "        text-align: right;\n",
       "    }\n",
       "</style>\n",
       "<table border=\"1\" class=\"dataframe\">\n",
       "  <thead>\n",
       "    <tr style=\"text-align: right;\">\n",
       "      <th></th>\n",
       "      <th>Date</th>\n",
       "      <th>Product</th>\n",
       "      <th>Quantity_Sold</th>\n",
       "    </tr>\n",
       "  </thead>\n",
       "  <tbody>\n",
       "    <tr>\n",
       "      <th>0</th>\n",
       "      <td>2023-01-01</td>\n",
       "      <td>A</td>\n",
       "      <td>100</td>\n",
       "    </tr>\n",
       "    <tr>\n",
       "      <th>1</th>\n",
       "      <td>2023-01-02</td>\n",
       "      <td>B</td>\n",
       "      <td>200</td>\n",
       "    </tr>\n",
       "    <tr>\n",
       "      <th>2</th>\n",
       "      <td>2023-01-03</td>\n",
       "      <td>C</td>\n",
       "      <td>150</td>\n",
       "    </tr>\n",
       "    <tr>\n",
       "      <th>3</th>\n",
       "      <td>2023-01-04</td>\n",
       "      <td>D</td>\n",
       "      <td>120</td>\n",
       "    </tr>\n",
       "    <tr>\n",
       "      <th>0</th>\n",
       "      <td>2023-01-05</td>\n",
       "      <td>A</td>\n",
       "      <td>100</td>\n",
       "    </tr>\n",
       "    <tr>\n",
       "      <th>1</th>\n",
       "      <td>2023-01-06</td>\n",
       "      <td>B</td>\n",
       "      <td>200</td>\n",
       "    </tr>\n",
       "    <tr>\n",
       "      <th>2</th>\n",
       "      <td>2023-01-07</td>\n",
       "      <td>C</td>\n",
       "      <td>150</td>\n",
       "    </tr>\n",
       "    <tr>\n",
       "      <th>3</th>\n",
       "      <td>2023-01-08</td>\n",
       "      <td>D</td>\n",
       "      <td>120</td>\n",
       "    </tr>\n",
       "  </tbody>\n",
       "</table>\n",
       "</div>"
      ],
      "text/plain": [
       "         Date Product  Quantity_Sold\n",
       "0  2023-01-01       A            100\n",
       "1  2023-01-02       B            200\n",
       "2  2023-01-03       C            150\n",
       "3  2023-01-04       D            120\n",
       "0  2023-01-05       A            100\n",
       "1  2023-01-06       B            200\n",
       "2  2023-01-07       C            150\n",
       "3  2023-01-08       D            120"
      ]
     },
     "execution_count": 5,
     "metadata": {},
     "output_type": "execute_result"
    }
   ],
   "source": [
    "# Concatenate the sales, and sales_2 vertically (along rows)\n",
    "pd.concat([df_sales, df_sales_2], axis=0)"
   ]
  },
  {
   "cell_type": "code",
   "execution_count": 7,
   "metadata": {
    "id": "HjzEzHDiul_t"
   },
   "outputs": [
    {
     "data": {
      "text/html": [
       "<div>\n",
       "<style scoped>\n",
       "    .dataframe tbody tr th:only-of-type {\n",
       "        vertical-align: middle;\n",
       "    }\n",
       "\n",
       "    .dataframe tbody tr th {\n",
       "        vertical-align: top;\n",
       "    }\n",
       "\n",
       "    .dataframe thead th {\n",
       "        text-align: right;\n",
       "    }\n",
       "</style>\n",
       "<table border=\"1\" class=\"dataframe\">\n",
       "  <thead>\n",
       "    <tr style=\"text-align: right;\">\n",
       "      <th></th>\n",
       "      <th>Date</th>\n",
       "      <th>Product</th>\n",
       "      <th>Quantity_Sold</th>\n",
       "      <th>Revenue</th>\n",
       "      <th>Costs</th>\n",
       "    </tr>\n",
       "  </thead>\n",
       "  <tbody>\n",
       "    <tr>\n",
       "      <th>0</th>\n",
       "      <td>2023-01-01</td>\n",
       "      <td>A</td>\n",
       "      <td>100.0</td>\n",
       "      <td>NaN</td>\n",
       "      <td>NaN</td>\n",
       "    </tr>\n",
       "    <tr>\n",
       "      <th>1</th>\n",
       "      <td>2023-01-02</td>\n",
       "      <td>B</td>\n",
       "      <td>200.0</td>\n",
       "      <td>NaN</td>\n",
       "      <td>NaN</td>\n",
       "    </tr>\n",
       "    <tr>\n",
       "      <th>2</th>\n",
       "      <td>2023-01-03</td>\n",
       "      <td>C</td>\n",
       "      <td>150.0</td>\n",
       "      <td>NaN</td>\n",
       "      <td>NaN</td>\n",
       "    </tr>\n",
       "    <tr>\n",
       "      <th>3</th>\n",
       "      <td>2023-01-04</td>\n",
       "      <td>D</td>\n",
       "      <td>120.0</td>\n",
       "      <td>NaN</td>\n",
       "      <td>NaN</td>\n",
       "    </tr>\n",
       "    <tr>\n",
       "      <th>0</th>\n",
       "      <td>2023-01-01</td>\n",
       "      <td>NaN</td>\n",
       "      <td>NaN</td>\n",
       "      <td>1000.0</td>\n",
       "      <td>NaN</td>\n",
       "    </tr>\n",
       "    <tr>\n",
       "      <th>1</th>\n",
       "      <td>2023-01-02</td>\n",
       "      <td>NaN</td>\n",
       "      <td>NaN</td>\n",
       "      <td>1500.0</td>\n",
       "      <td>NaN</td>\n",
       "    </tr>\n",
       "    <tr>\n",
       "      <th>2</th>\n",
       "      <td>2023-01-03</td>\n",
       "      <td>NaN</td>\n",
       "      <td>NaN</td>\n",
       "      <td>1200.0</td>\n",
       "      <td>NaN</td>\n",
       "    </tr>\n",
       "    <tr>\n",
       "      <th>3</th>\n",
       "      <td>2023-01-05</td>\n",
       "      <td>NaN</td>\n",
       "      <td>NaN</td>\n",
       "      <td>800.0</td>\n",
       "      <td>NaN</td>\n",
       "    </tr>\n",
       "    <tr>\n",
       "      <th>0</th>\n",
       "      <td>2023-01-01</td>\n",
       "      <td>NaN</td>\n",
       "      <td>NaN</td>\n",
       "      <td>NaN</td>\n",
       "      <td>500.0</td>\n",
       "    </tr>\n",
       "    <tr>\n",
       "      <th>1</th>\n",
       "      <td>2023-01-03</td>\n",
       "      <td>NaN</td>\n",
       "      <td>NaN</td>\n",
       "      <td>NaN</td>\n",
       "      <td>700.0</td>\n",
       "    </tr>\n",
       "    <tr>\n",
       "      <th>2</th>\n",
       "      <td>2023-01-04</td>\n",
       "      <td>NaN</td>\n",
       "      <td>NaN</td>\n",
       "      <td>NaN</td>\n",
       "      <td>600.0</td>\n",
       "    </tr>\n",
       "    <tr>\n",
       "      <th>3</th>\n",
       "      <td>2023-01-05</td>\n",
       "      <td>NaN</td>\n",
       "      <td>NaN</td>\n",
       "      <td>NaN</td>\n",
       "      <td>400.0</td>\n",
       "    </tr>\n",
       "  </tbody>\n",
       "</table>\n",
       "</div>"
      ],
      "text/plain": [
       "         Date Product  Quantity_Sold  Revenue  Costs\n",
       "0  2023-01-01       A          100.0      NaN    NaN\n",
       "1  2023-01-02       B          200.0      NaN    NaN\n",
       "2  2023-01-03       C          150.0      NaN    NaN\n",
       "3  2023-01-04       D          120.0      NaN    NaN\n",
       "0  2023-01-01     NaN            NaN   1000.0    NaN\n",
       "1  2023-01-02     NaN            NaN   1500.0    NaN\n",
       "2  2023-01-03     NaN            NaN   1200.0    NaN\n",
       "3  2023-01-05     NaN            NaN    800.0    NaN\n",
       "0  2023-01-01     NaN            NaN      NaN  500.0\n",
       "1  2023-01-03     NaN            NaN      NaN  700.0\n",
       "2  2023-01-04     NaN            NaN      NaN  600.0\n",
       "3  2023-01-05     NaN            NaN      NaN  400.0"
      ]
     },
     "execution_count": 7,
     "metadata": {},
     "output_type": "execute_result"
    }
   ],
   "source": [
    "# Concatenate the sales, revenue, and costs DataFrames vertically (along rows)\n",
    "pd.concat([df_sales, df_revenue, df_costs], axis=0)"
   ]
  },
  {
   "cell_type": "markdown",
   "metadata": {
    "id": "tKdzgLbAul_t"
   },
   "source": [
    "#### `axis=1`"
   ]
  },
  {
   "cell_type": "code",
   "execution_count": 9,
   "metadata": {
    "id": "3RC7tJecul_t"
   },
   "outputs": [
    {
     "data": {
      "text/html": [
       "<div>\n",
       "<style scoped>\n",
       "    .dataframe tbody tr th:only-of-type {\n",
       "        vertical-align: middle;\n",
       "    }\n",
       "\n",
       "    .dataframe tbody tr th {\n",
       "        vertical-align: top;\n",
       "    }\n",
       "\n",
       "    .dataframe thead th {\n",
       "        text-align: right;\n",
       "    }\n",
       "</style>\n",
       "<table border=\"1\" class=\"dataframe\">\n",
       "  <thead>\n",
       "    <tr style=\"text-align: right;\">\n",
       "      <th></th>\n",
       "      <th>Date</th>\n",
       "      <th>Product</th>\n",
       "      <th>Quantity_Sold</th>\n",
       "      <th>Date</th>\n",
       "      <th>Revenue</th>\n",
       "      <th>Date</th>\n",
       "      <th>Costs</th>\n",
       "    </tr>\n",
       "  </thead>\n",
       "  <tbody>\n",
       "    <tr>\n",
       "      <th>0</th>\n",
       "      <td>2023-01-01</td>\n",
       "      <td>A</td>\n",
       "      <td>100</td>\n",
       "      <td>2023-01-01</td>\n",
       "      <td>1000</td>\n",
       "      <td>2023-01-01</td>\n",
       "      <td>500</td>\n",
       "    </tr>\n",
       "    <tr>\n",
       "      <th>1</th>\n",
       "      <td>2023-01-02</td>\n",
       "      <td>B</td>\n",
       "      <td>200</td>\n",
       "      <td>2023-01-02</td>\n",
       "      <td>1500</td>\n",
       "      <td>2023-01-03</td>\n",
       "      <td>700</td>\n",
       "    </tr>\n",
       "    <tr>\n",
       "      <th>2</th>\n",
       "      <td>2023-01-03</td>\n",
       "      <td>C</td>\n",
       "      <td>150</td>\n",
       "      <td>2023-01-03</td>\n",
       "      <td>1200</td>\n",
       "      <td>2023-01-04</td>\n",
       "      <td>600</td>\n",
       "    </tr>\n",
       "    <tr>\n",
       "      <th>3</th>\n",
       "      <td>2023-01-04</td>\n",
       "      <td>D</td>\n",
       "      <td>120</td>\n",
       "      <td>2023-01-05</td>\n",
       "      <td>800</td>\n",
       "      <td>2023-01-05</td>\n",
       "      <td>400</td>\n",
       "    </tr>\n",
       "  </tbody>\n",
       "</table>\n",
       "</div>"
      ],
      "text/plain": [
       "         Date Product  Quantity_Sold        Date  Revenue        Date  Costs\n",
       "0  2023-01-01       A            100  2023-01-01     1000  2023-01-01    500\n",
       "1  2023-01-02       B            200  2023-01-02     1500  2023-01-03    700\n",
       "2  2023-01-03       C            150  2023-01-03     1200  2023-01-04    600\n",
       "3  2023-01-04       D            120  2023-01-05      800  2023-01-05    400"
      ]
     },
     "execution_count": 9,
     "metadata": {},
     "output_type": "execute_result"
    }
   ],
   "source": [
    "# Concatenate the sales, revenue, and costs DataFrames horizontally (along columns)\n",
    "pd.concat([df_sales, df_revenue, df_costs], axis=1) # by default is outer, takes the union #concat by date usually done horizontally"
   ]
  },
  {
   "cell_type": "markdown",
   "metadata": {
    "id": "JgWICYCQul_u"
   },
   "source": [
    "#### `join=\"inner\"`"
   ]
  },
  {
   "cell_type": "markdown",
   "metadata": {
    "id": "m3HXQDklul_u"
   },
   "source": [
    "- `Join` Parameter:\n",
    "    - The `join` parameter is used to specify how to handle the overlapping columns during concatenation.\n",
    "    - By default (`join='outer'`), all columns from all DataFrames are included in the result, and missing values are filled with NaN.\n",
    "    - If `join='inner'`, only the overlapping columns are included in the result, and non-overlapping columns are excluded.\n"
   ]
  },
  {
   "cell_type": "code",
   "execution_count": 15,
   "metadata": {
    "id": "Xvssydahul_u"
   },
   "outputs": [
    {
     "data": {
      "text/html": [
       "<div>\n",
       "<style scoped>\n",
       "    .dataframe tbody tr th:only-of-type {\n",
       "        vertical-align: middle;\n",
       "    }\n",
       "\n",
       "    .dataframe tbody tr th {\n",
       "        vertical-align: top;\n",
       "    }\n",
       "\n",
       "    .dataframe thead th {\n",
       "        text-align: right;\n",
       "    }\n",
       "</style>\n",
       "<table border=\"1\" class=\"dataframe\">\n",
       "  <thead>\n",
       "    <tr style=\"text-align: right;\">\n",
       "      <th></th>\n",
       "      <th>Date</th>\n",
       "    </tr>\n",
       "  </thead>\n",
       "  <tbody>\n",
       "    <tr>\n",
       "      <th>0</th>\n",
       "      <td>2023-01-01</td>\n",
       "    </tr>\n",
       "    <tr>\n",
       "      <th>1</th>\n",
       "      <td>2023-01-02</td>\n",
       "    </tr>\n",
       "    <tr>\n",
       "      <th>2</th>\n",
       "      <td>2023-01-03</td>\n",
       "    </tr>\n",
       "    <tr>\n",
       "      <th>3</th>\n",
       "      <td>2023-01-04</td>\n",
       "    </tr>\n",
       "    <tr>\n",
       "      <th>0</th>\n",
       "      <td>2023-01-01</td>\n",
       "    </tr>\n",
       "    <tr>\n",
       "      <th>1</th>\n",
       "      <td>2023-01-02</td>\n",
       "    </tr>\n",
       "    <tr>\n",
       "      <th>2</th>\n",
       "      <td>2023-01-03</td>\n",
       "    </tr>\n",
       "    <tr>\n",
       "      <th>3</th>\n",
       "      <td>2023-01-05</td>\n",
       "    </tr>\n",
       "    <tr>\n",
       "      <th>0</th>\n",
       "      <td>2023-01-01</td>\n",
       "    </tr>\n",
       "    <tr>\n",
       "      <th>1</th>\n",
       "      <td>2023-01-03</td>\n",
       "    </tr>\n",
       "    <tr>\n",
       "      <th>2</th>\n",
       "      <td>2023-01-04</td>\n",
       "    </tr>\n",
       "    <tr>\n",
       "      <th>3</th>\n",
       "      <td>2023-01-05</td>\n",
       "    </tr>\n",
       "  </tbody>\n",
       "</table>\n",
       "</div>"
      ],
      "text/plain": [
       "         Date\n",
       "0  2023-01-01\n",
       "1  2023-01-02\n",
       "2  2023-01-03\n",
       "3  2023-01-04\n",
       "0  2023-01-01\n",
       "1  2023-01-02\n",
       "2  2023-01-03\n",
       "3  2023-01-05\n",
       "0  2023-01-01\n",
       "1  2023-01-03\n",
       "2  2023-01-04\n",
       "3  2023-01-05"
      ]
     },
     "execution_count": 15,
     "metadata": {},
     "output_type": "execute_result"
    }
   ],
   "source": [
    "pd.concat([df_sales, df_revenue, df_costs], axis=0, join=\"inner\")"
   ]
  },
  {
   "cell_type": "markdown",
   "metadata": {
    "id": "esfnleIIul_u"
   },
   "source": [
    "### `merge`"
   ]
  },
  {
   "cell_type": "markdown",
   "metadata": {
    "id": "zNqBZeipul_u"
   },
   "source": [
    "Merge is used to combine DataFrames based on a common column. By default, `merge` performs an *inner join*, where only the matching rows between the DataFrames are included in the result."
   ]
  },
  {
   "cell_type": "code",
   "execution_count": 17,
   "metadata": {
    "id": "zZgz7_gWul_u"
   },
   "outputs": [
    {
     "data": {
      "text/plain": [
       "0    2023-01-01\n",
       "1    2023-01-02\n",
       "2    2023-01-03\n",
       "3    2023-01-05\n",
       "Name: Date, dtype: object"
      ]
     },
     "execution_count": 17,
     "metadata": {},
     "output_type": "execute_result"
    }
   ],
   "source": [
    "df_revenue.Date"
   ]
  },
  {
   "cell_type": "code",
   "execution_count": 19,
   "metadata": {
    "id": "NJQX1e0aul_u"
   },
   "outputs": [
    {
     "data": {
      "text/html": [
       "<div>\n",
       "<style scoped>\n",
       "    .dataframe tbody tr th:only-of-type {\n",
       "        vertical-align: middle;\n",
       "    }\n",
       "\n",
       "    .dataframe tbody tr th {\n",
       "        vertical-align: top;\n",
       "    }\n",
       "\n",
       "    .dataframe thead th {\n",
       "        text-align: right;\n",
       "    }\n",
       "</style>\n",
       "<table border=\"1\" class=\"dataframe\">\n",
       "  <thead>\n",
       "    <tr style=\"text-align: right;\">\n",
       "      <th></th>\n",
       "      <th>Date</th>\n",
       "      <th>Product</th>\n",
       "      <th>Quantity_Sold</th>\n",
       "      <th>Revenue</th>\n",
       "    </tr>\n",
       "  </thead>\n",
       "  <tbody>\n",
       "    <tr>\n",
       "      <th>0</th>\n",
       "      <td>2023-01-01</td>\n",
       "      <td>A</td>\n",
       "      <td>100</td>\n",
       "      <td>1000</td>\n",
       "    </tr>\n",
       "    <tr>\n",
       "      <th>1</th>\n",
       "      <td>2023-01-02</td>\n",
       "      <td>B</td>\n",
       "      <td>200</td>\n",
       "      <td>1500</td>\n",
       "    </tr>\n",
       "    <tr>\n",
       "      <th>2</th>\n",
       "      <td>2023-01-03</td>\n",
       "      <td>C</td>\n",
       "      <td>150</td>\n",
       "      <td>1200</td>\n",
       "    </tr>\n",
       "  </tbody>\n",
       "</table>\n",
       "</div>"
      ],
      "text/plain": [
       "         Date Product  Quantity_Sold  Revenue\n",
       "0  2023-01-01       A            100     1000\n",
       "1  2023-01-02       B            200     1500\n",
       "2  2023-01-03       C            150     1200"
      ]
     },
     "execution_count": 19,
     "metadata": {},
     "output_type": "execute_result"
    }
   ],
   "source": [
    "# Merge the sales and revenue DataFrames on the 'Date' column (inner join)\n",
    "# Only rows with a common value in the 'Date' column, present in both DataFrames, are included in the merged result.\n",
    "pd.merge(df_sales, df_revenue, on='Date')"
   ]
  },
  {
   "cell_type": "markdown",
   "metadata": {
    "id": "ysB5YPxOul_u"
   },
   "source": [
    "If you want to perform an outer join, where all rows from both DataFrames are included, you can use `how='outer'`."
   ]
  },
  {
   "cell_type": "code",
   "execution_count": 21,
   "metadata": {
    "id": "b1wciD4vul_u"
   },
   "outputs": [
    {
     "data": {
      "text/html": [
       "<div>\n",
       "<style scoped>\n",
       "    .dataframe tbody tr th:only-of-type {\n",
       "        vertical-align: middle;\n",
       "    }\n",
       "\n",
       "    .dataframe tbody tr th {\n",
       "        vertical-align: top;\n",
       "    }\n",
       "\n",
       "    .dataframe thead th {\n",
       "        text-align: right;\n",
       "    }\n",
       "</style>\n",
       "<table border=\"1\" class=\"dataframe\">\n",
       "  <thead>\n",
       "    <tr style=\"text-align: right;\">\n",
       "      <th></th>\n",
       "      <th>Date</th>\n",
       "      <th>Product</th>\n",
       "      <th>Quantity_Sold</th>\n",
       "      <th>Revenue</th>\n",
       "    </tr>\n",
       "  </thead>\n",
       "  <tbody>\n",
       "    <tr>\n",
       "      <th>0</th>\n",
       "      <td>2023-01-01</td>\n",
       "      <td>A</td>\n",
       "      <td>100.0</td>\n",
       "      <td>1000.0</td>\n",
       "    </tr>\n",
       "    <tr>\n",
       "      <th>1</th>\n",
       "      <td>2023-01-02</td>\n",
       "      <td>B</td>\n",
       "      <td>200.0</td>\n",
       "      <td>1500.0</td>\n",
       "    </tr>\n",
       "    <tr>\n",
       "      <th>2</th>\n",
       "      <td>2023-01-03</td>\n",
       "      <td>C</td>\n",
       "      <td>150.0</td>\n",
       "      <td>1200.0</td>\n",
       "    </tr>\n",
       "    <tr>\n",
       "      <th>3</th>\n",
       "      <td>2023-01-04</td>\n",
       "      <td>D</td>\n",
       "      <td>120.0</td>\n",
       "      <td>NaN</td>\n",
       "    </tr>\n",
       "    <tr>\n",
       "      <th>4</th>\n",
       "      <td>2023-01-05</td>\n",
       "      <td>NaN</td>\n",
       "      <td>NaN</td>\n",
       "      <td>800.0</td>\n",
       "    </tr>\n",
       "  </tbody>\n",
       "</table>\n",
       "</div>"
      ],
      "text/plain": [
       "         Date Product  Quantity_Sold  Revenue\n",
       "0  2023-01-01       A          100.0   1000.0\n",
       "1  2023-01-02       B          200.0   1500.0\n",
       "2  2023-01-03       C          150.0   1200.0\n",
       "3  2023-01-04       D          120.0      NaN\n",
       "4  2023-01-05     NaN            NaN    800.0"
      ]
     },
     "execution_count": 21,
     "metadata": {},
     "output_type": "execute_result"
    }
   ],
   "source": [
    "# Merge the sales and revenue DataFrames on the 'Date' column (outer join)\n",
    "pd.merge(df_sales, df_revenue, on='Date', how='outer')"
   ]
  },
  {
   "cell_type": "markdown",
   "metadata": {
    "id": "B3aHV0ojul_v"
   },
   "source": [
    "If you want to include all rows from the left DataFrame and only the matching rows from the right DataFrame, you can use `how='left'`."
   ]
  },
  {
   "cell_type": "code",
   "execution_count": 23,
   "metadata": {
    "id": "7aaRNG7sul_v"
   },
   "outputs": [
    {
     "data": {
      "text/html": [
       "<div>\n",
       "<style scoped>\n",
       "    .dataframe tbody tr th:only-of-type {\n",
       "        vertical-align: middle;\n",
       "    }\n",
       "\n",
       "    .dataframe tbody tr th {\n",
       "        vertical-align: top;\n",
       "    }\n",
       "\n",
       "    .dataframe thead th {\n",
       "        text-align: right;\n",
       "    }\n",
       "</style>\n",
       "<table border=\"1\" class=\"dataframe\">\n",
       "  <thead>\n",
       "    <tr style=\"text-align: right;\">\n",
       "      <th></th>\n",
       "      <th>Date</th>\n",
       "      <th>Product</th>\n",
       "      <th>Quantity_Sold</th>\n",
       "      <th>Revenue</th>\n",
       "    </tr>\n",
       "  </thead>\n",
       "  <tbody>\n",
       "    <tr>\n",
       "      <th>0</th>\n",
       "      <td>2023-01-01</td>\n",
       "      <td>A</td>\n",
       "      <td>100</td>\n",
       "      <td>1000.0</td>\n",
       "    </tr>\n",
       "    <tr>\n",
       "      <th>1</th>\n",
       "      <td>2023-01-02</td>\n",
       "      <td>B</td>\n",
       "      <td>200</td>\n",
       "      <td>1500.0</td>\n",
       "    </tr>\n",
       "    <tr>\n",
       "      <th>2</th>\n",
       "      <td>2023-01-03</td>\n",
       "      <td>C</td>\n",
       "      <td>150</td>\n",
       "      <td>1200.0</td>\n",
       "    </tr>\n",
       "    <tr>\n",
       "      <th>3</th>\n",
       "      <td>2023-01-04</td>\n",
       "      <td>D</td>\n",
       "      <td>120</td>\n",
       "      <td>NaN</td>\n",
       "    </tr>\n",
       "  </tbody>\n",
       "</table>\n",
       "</div>"
      ],
      "text/plain": [
       "         Date Product  Quantity_Sold  Revenue\n",
       "0  2023-01-01       A            100   1000.0\n",
       "1  2023-01-02       B            200   1500.0\n",
       "2  2023-01-03       C            150   1200.0\n",
       "3  2023-01-04       D            120      NaN"
      ]
     },
     "execution_count": 23,
     "metadata": {},
     "output_type": "execute_result"
    }
   ],
   "source": [
    "# Merge the sales and revenue DataFrames on the 'Date' column (left join)\n",
    "pd.merge(df_sales, df_revenue, on='Date', how='left')"
   ]
  },
  {
   "cell_type": "markdown",
   "metadata": {
    "id": "SaSbSaL9ul_v"
   },
   "source": [
    "Similarly, if you want to include all rows from the right DataFrame and only the matching rows from the left DataFrame, you can use `how='right'`."
   ]
  },
  {
   "cell_type": "code",
   "execution_count": null,
   "metadata": {
    "id": "W04N0-u5ul_v"
   },
   "outputs": [],
   "source": [
    "# Merge the sales and revenue DataFrames on the 'Date' column (right join)\n",
    "pd.merge(df_sales, df_revenue, on='Date', how='right')"
   ]
  },
  {
   "cell_type": "markdown",
   "metadata": {
    "id": "gxtToCOzul_v"
   },
   "source": [
    "In these examples, we had the same column ('Date') in both DataFrames, but this is not always the case. To perform such joins, we use the `left_on` and `right_on` parameters."
   ]
  },
  {
   "cell_type": "markdown",
   "metadata": {
    "id": "6hcVA5dQul_v"
   },
   "source": [
    "`df1.merge(df2, left_on='col_1', right_on='col_2', how='inner')`"
   ]
  },
  {
   "cell_type": "markdown",
   "metadata": {
    "id": "N3RRjWltul_v"
   },
   "source": [
    "### `join`"
   ]
  },
  {
   "cell_type": "markdown",
   "metadata": {
    "id": "nGSmpslaul_v"
   },
   "source": [
    "`join()` works similarly to `merge()`. It is also used to combine DataFrames. However, there are some differences between the two:\n",
    "\n",
    "1. **Method of Combination:**\n",
    "   - `join()`: Combines DataFrames **based on their indexes**. It uses the index as the key to align the rows.\n",
    "   - `merge()`: Combines DataFrames **based on the values in specified columns**. It can use one or more columns as the keys to align the rows.\n",
    "\n",
    "2. **Default Behavior:**\n",
    "   - `join()`: By default, performs a left join, keeping all rows from the left DataFrame and filling missing values with NaN from the right DataFrame.\n",
    "   - `merge()`: By default, performs an inner join, keeping only the rows with matching values in both DataFrames.\n",
    "\n"
   ]
  },
  {
   "cell_type": "markdown",
   "metadata": {
    "id": "C_RRsYbYul_v"
   },
   "source": [
    "First, we set the 'Date' column as the index for all three DataFrames, as follows:"
   ]
  },
  {
   "cell_type": "code",
   "execution_count": 25,
   "metadata": {
    "id": "qc_Svgaiul_v"
   },
   "outputs": [],
   "source": [
    "df_sales.set_index('Date', inplace=True)\n",
    "df_revenue.set_index('Date', inplace=True)\n",
    "df_costs.set_index('Date', inplace=True)"
   ]
  },
  {
   "cell_type": "markdown",
   "metadata": {
    "id": "p-67XB_gul_w"
   },
   "source": [
    "Next, we use the `join()` method on `df_sales` to merge it with `df_revenue` and `df_costs`. By default, `join()` uses the 'Date' column as the key to merge the DataFrames.\n",
    "\n",
    "The resulting df_combined DataFrame will contain all rows from df_sales along with corresponding revenue and costs information, where available. If there is no data for a specific date in either df_revenue or df_costs, the corresponding values will be filled with NaN."
   ]
  },
  {
   "cell_type": "code",
   "execution_count": 27,
   "metadata": {
    "id": "Zl5wUEzhul_w"
   },
   "outputs": [
    {
     "data": {
      "text/html": [
       "<div>\n",
       "<style scoped>\n",
       "    .dataframe tbody tr th:only-of-type {\n",
       "        vertical-align: middle;\n",
       "    }\n",
       "\n",
       "    .dataframe tbody tr th {\n",
       "        vertical-align: top;\n",
       "    }\n",
       "\n",
       "    .dataframe thead th {\n",
       "        text-align: right;\n",
       "    }\n",
       "</style>\n",
       "<table border=\"1\" class=\"dataframe\">\n",
       "  <thead>\n",
       "    <tr style=\"text-align: right;\">\n",
       "      <th></th>\n",
       "      <th>Product</th>\n",
       "      <th>Quantity_Sold</th>\n",
       "      <th>Revenue</th>\n",
       "      <th>Costs</th>\n",
       "    </tr>\n",
       "    <tr>\n",
       "      <th>Date</th>\n",
       "      <th></th>\n",
       "      <th></th>\n",
       "      <th></th>\n",
       "      <th></th>\n",
       "    </tr>\n",
       "  </thead>\n",
       "  <tbody>\n",
       "    <tr>\n",
       "      <th>2023-01-01</th>\n",
       "      <td>A</td>\n",
       "      <td>100.0</td>\n",
       "      <td>1000.0</td>\n",
       "      <td>500.0</td>\n",
       "    </tr>\n",
       "    <tr>\n",
       "      <th>2023-01-02</th>\n",
       "      <td>B</td>\n",
       "      <td>200.0</td>\n",
       "      <td>1500.0</td>\n",
       "      <td>NaN</td>\n",
       "    </tr>\n",
       "    <tr>\n",
       "      <th>2023-01-03</th>\n",
       "      <td>C</td>\n",
       "      <td>150.0</td>\n",
       "      <td>1200.0</td>\n",
       "      <td>700.0</td>\n",
       "    </tr>\n",
       "    <tr>\n",
       "      <th>2023-01-04</th>\n",
       "      <td>D</td>\n",
       "      <td>120.0</td>\n",
       "      <td>NaN</td>\n",
       "      <td>600.0</td>\n",
       "    </tr>\n",
       "  </tbody>\n",
       "</table>\n",
       "</div>"
      ],
      "text/plain": [
       "           Product  Quantity_Sold  Revenue  Costs\n",
       "Date                                             \n",
       "2023-01-01       A          100.0   1000.0  500.0\n",
       "2023-01-02       B          200.0   1500.0    NaN\n",
       "2023-01-03       C          150.0   1200.0  700.0\n",
       "2023-01-04       D          120.0      NaN  600.0"
      ]
     },
     "execution_count": 27,
     "metadata": {},
     "output_type": "execute_result"
    }
   ],
   "source": [
    "# By default is a Left Join: Keep all rows from the left DataFrame and fill missing values with NaN from the right DataFrame.\n",
    "\n",
    "df_sales.join([df_revenue, df_costs])"
   ]
  },
  {
   "cell_type": "code",
   "execution_count": null,
   "metadata": {
    "id": "cIui12A3ul_w"
   },
   "outputs": [],
   "source": [
    "# Inner Join: Only include rows with matching 'Date' values in both DataFrames.\n",
    "df_sales.join([df_revenue, df_costs], how='inner')"
   ]
  },
  {
   "cell_type": "code",
   "execution_count": null,
   "metadata": {
    "id": "BceBVKW_ul_w"
   },
   "outputs": [],
   "source": [
    "# Outer Join: Include all rows from both DataFrames and fill missing values with NaN where data is not available.\n",
    "df_sales.join([df_revenue, df_costs],how='outer')"
   ]
  },
  {
   "cell_type": "markdown",
   "metadata": {
    "id": "uWmYZpkaul_w"
   },
   "source": [
    "### Summary\n",
    "\n",
    "- `concat` is used to combine two or more DataFrames vertically or horizontally. It's often used when data is split across multiple files and you want to create a larger dataset.\n",
    "  - Vertical concatenation adds more rows to a DataFrame.\n",
    "  - Horizontal concatenation adds more columns to a DataFrame.\n",
    "  - `pd.concat` is used with the `axis` parameter determining the axis along which the DataFrames will be stacked (`axis=0` for rows and `axis=1` for columns).\n",
    "  - The `join` parameter determines how to handle overlapping columns during concatenation. `join='outer'` includes all columns and fills missing values with NaN, while `join='inner'` includes only overlapping columns.\n",
    "- `merge` is used to combine DataFrames based on a common column.\n",
    "  - By default, `merge` performs an inner join, including only the matching rows between the DataFrames.\n",
    "  - `how='outer'` performs an outer join, including all rows from both DataFrames.\n",
    "  - `how='left'` performs a left join, including all rows from the left DataFrame and only matching rows from the right.\n",
    "  - `how='right'` performs a right join, including all rows from the right DataFrame and only matching rows from the left.\n",
    "  - If the columns to join on don't have the same name, `left_on` and `right_on` parameters are used.\n",
    "- `join` is used to combine DataFrames based on their indexes.\n",
    "  - By default, `join` performs a left join.\n",
    "  - The DataFrame's index can be set using `set_index` and then `join` can be used to merge on this index.\n",
    "  - Different types of joins (inner, outer) can be performed using the `how` parameter in the `join` function."
   ]
  },
  {
   "cell_type": "markdown",
   "metadata": {
    "id": "T83qToc9ul_w"
   },
   "source": [
    "### 💡 Check for understanding"
   ]
  },
  {
   "cell_type": "code",
   "execution_count": 57,
   "metadata": {
    "id": "O5UGyOrdul_w"
   },
   "outputs": [],
   "source": [
    "import pandas as pd\n",
    "\n",
    "# Dataset 1: Student information\n",
    "df_students = pd.DataFrame({\n",
    "    'StudentID': ['S1', 'S2', 'S3', 'S4'],\n",
    "    'Name': ['Alice', 'Bob', 'Charlie', 'Dave'],\n",
    "    'Major': ['Physics', 'Mathematics', 'Chemistry', 'Biology']\n",
    "})\n",
    "\n",
    "# Create df_students_2 DataFrame\n",
    "df_students_2 = pd.DataFrame({\n",
    "    'StudentID': ['S5', 'S6'],\n",
    "    'Name': ['Eve', 'Frank'],\n",
    "    'Major': ['English', 'Computer Science']\n",
    "})\n",
    "\n",
    "# Dataset 2: Course enrollment information\n",
    "df_courses = pd.DataFrame({\n",
    "    'StudentID': ['S1', 'S2', 'S3', 'S5'],\n",
    "    'Course': ['Physics 101', 'Mathematics 101', 'Chemistry 101', 'Biology 101']\n",
    "})\n",
    "\n",
    "# Dataset 3: Student grades\n",
    "df_grades = pd.DataFrame({\n",
    "    'StudentID': ['S1', 'S3', 'S4', 'S6'],\n",
    "    'Grade': ['A', 'B', 'A', 'C']\n",
    "})"
   ]
  },
  {
   "cell_type": "markdown",
   "metadata": {
    "id": "hS1wNzchul_x"
   },
   "source": [
    "1. Create a new DataFrame that contains the information from both `df_students` and `df_students_2`.\n",
    "\n",
    "2. Merge `df_students` and `df_courses` on the 'StudentID' column. Try all four types of merges (inner, outer, left, and right) and observe the differences.\n",
    "\n",
    "3. Set 'StudentID' as the index for `df_students`, `df_courses`, and `df_grades`. Then use `df_students.join` to combine all three datasets. Try different types of joins (inner, outer) and observe the differences."
   ]
  },
  {
   "cell_type": "code",
   "execution_count": 33,
   "metadata": {},
   "outputs": [
    {
     "data": {
      "text/html": [
       "<div>\n",
       "<style scoped>\n",
       "    .dataframe tbody tr th:only-of-type {\n",
       "        vertical-align: middle;\n",
       "    }\n",
       "\n",
       "    .dataframe tbody tr th {\n",
       "        vertical-align: top;\n",
       "    }\n",
       "\n",
       "    .dataframe thead th {\n",
       "        text-align: right;\n",
       "    }\n",
       "</style>\n",
       "<table border=\"1\" class=\"dataframe\">\n",
       "  <thead>\n",
       "    <tr style=\"text-align: right;\">\n",
       "      <th></th>\n",
       "      <th>StudentID</th>\n",
       "      <th>Name</th>\n",
       "      <th>Major</th>\n",
       "    </tr>\n",
       "  </thead>\n",
       "  <tbody>\n",
       "    <tr>\n",
       "      <th>0</th>\n",
       "      <td>S1</td>\n",
       "      <td>Alice</td>\n",
       "      <td>Physics</td>\n",
       "    </tr>\n",
       "    <tr>\n",
       "      <th>1</th>\n",
       "      <td>S2</td>\n",
       "      <td>Bob</td>\n",
       "      <td>Mathematics</td>\n",
       "    </tr>\n",
       "    <tr>\n",
       "      <th>2</th>\n",
       "      <td>S3</td>\n",
       "      <td>Charlie</td>\n",
       "      <td>Chemistry</td>\n",
       "    </tr>\n",
       "    <tr>\n",
       "      <th>3</th>\n",
       "      <td>S4</td>\n",
       "      <td>Dave</td>\n",
       "      <td>Biology</td>\n",
       "    </tr>\n",
       "    <tr>\n",
       "      <th>0</th>\n",
       "      <td>S5</td>\n",
       "      <td>Eve</td>\n",
       "      <td>English</td>\n",
       "    </tr>\n",
       "    <tr>\n",
       "      <th>1</th>\n",
       "      <td>S6</td>\n",
       "      <td>Frank</td>\n",
       "      <td>Computer Science</td>\n",
       "    </tr>\n",
       "  </tbody>\n",
       "</table>\n",
       "</div>"
      ],
      "text/plain": [
       "  StudentID     Name             Major\n",
       "0        S1    Alice           Physics\n",
       "1        S2      Bob       Mathematics\n",
       "2        S3  Charlie         Chemistry\n",
       "3        S4     Dave           Biology\n",
       "0        S5      Eve           English\n",
       "1        S6    Frank  Computer Science"
      ]
     },
     "execution_count": 33,
     "metadata": {},
     "output_type": "execute_result"
    }
   ],
   "source": [
    "pd.concat([df_students, df_students_2], axis=0)"
   ]
  },
  {
   "cell_type": "code",
   "execution_count": 35,
   "metadata": {},
   "outputs": [
    {
     "data": {
      "text/html": [
       "<div>\n",
       "<style scoped>\n",
       "    .dataframe tbody tr th:only-of-type {\n",
       "        vertical-align: middle;\n",
       "    }\n",
       "\n",
       "    .dataframe tbody tr th {\n",
       "        vertical-align: top;\n",
       "    }\n",
       "\n",
       "    .dataframe thead th {\n",
       "        text-align: right;\n",
       "    }\n",
       "</style>\n",
       "<table border=\"1\" class=\"dataframe\">\n",
       "  <thead>\n",
       "    <tr style=\"text-align: right;\">\n",
       "      <th></th>\n",
       "      <th>StudentID</th>\n",
       "      <th>Name</th>\n",
       "      <th>Major</th>\n",
       "      <th>Course</th>\n",
       "    </tr>\n",
       "  </thead>\n",
       "  <tbody>\n",
       "    <tr>\n",
       "      <th>0</th>\n",
       "      <td>S1</td>\n",
       "      <td>Alice</td>\n",
       "      <td>Physics</td>\n",
       "      <td>Physics 101</td>\n",
       "    </tr>\n",
       "    <tr>\n",
       "      <th>1</th>\n",
       "      <td>S2</td>\n",
       "      <td>Bob</td>\n",
       "      <td>Mathematics</td>\n",
       "      <td>Mathematics 101</td>\n",
       "    </tr>\n",
       "    <tr>\n",
       "      <th>2</th>\n",
       "      <td>S3</td>\n",
       "      <td>Charlie</td>\n",
       "      <td>Chemistry</td>\n",
       "      <td>Chemistry 101</td>\n",
       "    </tr>\n",
       "  </tbody>\n",
       "</table>\n",
       "</div>"
      ],
      "text/plain": [
       "  StudentID     Name        Major           Course\n",
       "0        S1    Alice      Physics      Physics 101\n",
       "1        S2      Bob  Mathematics  Mathematics 101\n",
       "2        S3  Charlie    Chemistry    Chemistry 101"
      ]
     },
     "execution_count": 35,
     "metadata": {},
     "output_type": "execute_result"
    }
   ],
   "source": [
    "pd.merge(df_students, df_courses, on='StudentID')"
   ]
  },
  {
   "cell_type": "code",
   "execution_count": 37,
   "metadata": {},
   "outputs": [
    {
     "data": {
      "text/html": [
       "<div>\n",
       "<style scoped>\n",
       "    .dataframe tbody tr th:only-of-type {\n",
       "        vertical-align: middle;\n",
       "    }\n",
       "\n",
       "    .dataframe tbody tr th {\n",
       "        vertical-align: top;\n",
       "    }\n",
       "\n",
       "    .dataframe thead th {\n",
       "        text-align: right;\n",
       "    }\n",
       "</style>\n",
       "<table border=\"1\" class=\"dataframe\">\n",
       "  <thead>\n",
       "    <tr style=\"text-align: right;\">\n",
       "      <th></th>\n",
       "      <th>StudentID</th>\n",
       "      <th>Name</th>\n",
       "      <th>Major</th>\n",
       "      <th>Course</th>\n",
       "    </tr>\n",
       "  </thead>\n",
       "  <tbody>\n",
       "    <tr>\n",
       "      <th>0</th>\n",
       "      <td>S1</td>\n",
       "      <td>Alice</td>\n",
       "      <td>Physics</td>\n",
       "      <td>Physics 101</td>\n",
       "    </tr>\n",
       "    <tr>\n",
       "      <th>1</th>\n",
       "      <td>S2</td>\n",
       "      <td>Bob</td>\n",
       "      <td>Mathematics</td>\n",
       "      <td>Mathematics 101</td>\n",
       "    </tr>\n",
       "    <tr>\n",
       "      <th>2</th>\n",
       "      <td>S3</td>\n",
       "      <td>Charlie</td>\n",
       "      <td>Chemistry</td>\n",
       "      <td>Chemistry 101</td>\n",
       "    </tr>\n",
       "    <tr>\n",
       "      <th>3</th>\n",
       "      <td>S4</td>\n",
       "      <td>Dave</td>\n",
       "      <td>Biology</td>\n",
       "      <td>NaN</td>\n",
       "    </tr>\n",
       "    <tr>\n",
       "      <th>4</th>\n",
       "      <td>S5</td>\n",
       "      <td>NaN</td>\n",
       "      <td>NaN</td>\n",
       "      <td>Biology 101</td>\n",
       "    </tr>\n",
       "  </tbody>\n",
       "</table>\n",
       "</div>"
      ],
      "text/plain": [
       "  StudentID     Name        Major           Course\n",
       "0        S1    Alice      Physics      Physics 101\n",
       "1        S2      Bob  Mathematics  Mathematics 101\n",
       "2        S3  Charlie    Chemistry    Chemistry 101\n",
       "3        S4     Dave      Biology              NaN\n",
       "4        S5      NaN          NaN      Biology 101"
      ]
     },
     "execution_count": 37,
     "metadata": {},
     "output_type": "execute_result"
    }
   ],
   "source": [
    "\n",
    "pd.merge(df_students, df_courses, on='StudentID', how='outer')"
   ]
  },
  {
   "cell_type": "code",
   "execution_count": 39,
   "metadata": {},
   "outputs": [
    {
     "data": {
      "text/html": [
       "<div>\n",
       "<style scoped>\n",
       "    .dataframe tbody tr th:only-of-type {\n",
       "        vertical-align: middle;\n",
       "    }\n",
       "\n",
       "    .dataframe tbody tr th {\n",
       "        vertical-align: top;\n",
       "    }\n",
       "\n",
       "    .dataframe thead th {\n",
       "        text-align: right;\n",
       "    }\n",
       "</style>\n",
       "<table border=\"1\" class=\"dataframe\">\n",
       "  <thead>\n",
       "    <tr style=\"text-align: right;\">\n",
       "      <th></th>\n",
       "      <th>StudentID</th>\n",
       "      <th>Name</th>\n",
       "      <th>Major</th>\n",
       "      <th>Course</th>\n",
       "    </tr>\n",
       "  </thead>\n",
       "  <tbody>\n",
       "    <tr>\n",
       "      <th>0</th>\n",
       "      <td>S1</td>\n",
       "      <td>Alice</td>\n",
       "      <td>Physics</td>\n",
       "      <td>Physics 101</td>\n",
       "    </tr>\n",
       "    <tr>\n",
       "      <th>1</th>\n",
       "      <td>S2</td>\n",
       "      <td>Bob</td>\n",
       "      <td>Mathematics</td>\n",
       "      <td>Mathematics 101</td>\n",
       "    </tr>\n",
       "    <tr>\n",
       "      <th>2</th>\n",
       "      <td>S3</td>\n",
       "      <td>Charlie</td>\n",
       "      <td>Chemistry</td>\n",
       "      <td>Chemistry 101</td>\n",
       "    </tr>\n",
       "    <tr>\n",
       "      <th>3</th>\n",
       "      <td>S4</td>\n",
       "      <td>Dave</td>\n",
       "      <td>Biology</td>\n",
       "      <td>NaN</td>\n",
       "    </tr>\n",
       "  </tbody>\n",
       "</table>\n",
       "</div>"
      ],
      "text/plain": [
       "  StudentID     Name        Major           Course\n",
       "0        S1    Alice      Physics      Physics 101\n",
       "1        S2      Bob  Mathematics  Mathematics 101\n",
       "2        S3  Charlie    Chemistry    Chemistry 101\n",
       "3        S4     Dave      Biology              NaN"
      ]
     },
     "execution_count": 39,
     "metadata": {},
     "output_type": "execute_result"
    }
   ],
   "source": [
    "\n",
    "pd.merge(df_students, df_courses, on='StudentID', how='left')"
   ]
  },
  {
   "cell_type": "code",
   "execution_count": 41,
   "metadata": {},
   "outputs": [
    {
     "data": {
      "text/html": [
       "<div>\n",
       "<style scoped>\n",
       "    .dataframe tbody tr th:only-of-type {\n",
       "        vertical-align: middle;\n",
       "    }\n",
       "\n",
       "    .dataframe tbody tr th {\n",
       "        vertical-align: top;\n",
       "    }\n",
       "\n",
       "    .dataframe thead th {\n",
       "        text-align: right;\n",
       "    }\n",
       "</style>\n",
       "<table border=\"1\" class=\"dataframe\">\n",
       "  <thead>\n",
       "    <tr style=\"text-align: right;\">\n",
       "      <th></th>\n",
       "      <th>StudentID</th>\n",
       "      <th>Name</th>\n",
       "      <th>Major</th>\n",
       "      <th>Course</th>\n",
       "    </tr>\n",
       "  </thead>\n",
       "  <tbody>\n",
       "    <tr>\n",
       "      <th>0</th>\n",
       "      <td>S1</td>\n",
       "      <td>Alice</td>\n",
       "      <td>Physics</td>\n",
       "      <td>Physics 101</td>\n",
       "    </tr>\n",
       "    <tr>\n",
       "      <th>1</th>\n",
       "      <td>S2</td>\n",
       "      <td>Bob</td>\n",
       "      <td>Mathematics</td>\n",
       "      <td>Mathematics 101</td>\n",
       "    </tr>\n",
       "    <tr>\n",
       "      <th>2</th>\n",
       "      <td>S3</td>\n",
       "      <td>Charlie</td>\n",
       "      <td>Chemistry</td>\n",
       "      <td>Chemistry 101</td>\n",
       "    </tr>\n",
       "    <tr>\n",
       "      <th>3</th>\n",
       "      <td>S5</td>\n",
       "      <td>NaN</td>\n",
       "      <td>NaN</td>\n",
       "      <td>Biology 101</td>\n",
       "    </tr>\n",
       "  </tbody>\n",
       "</table>\n",
       "</div>"
      ],
      "text/plain": [
       "  StudentID     Name        Major           Course\n",
       "0        S1    Alice      Physics      Physics 101\n",
       "1        S2      Bob  Mathematics  Mathematics 101\n",
       "2        S3  Charlie    Chemistry    Chemistry 101\n",
       "3        S5      NaN          NaN      Biology 101"
      ]
     },
     "execution_count": 41,
     "metadata": {},
     "output_type": "execute_result"
    }
   ],
   "source": [
    "\n",
    "pd.merge(df_students, df_courses, on='StudentID', how='right')"
   ]
  },
  {
   "cell_type": "code",
   "execution_count": 59,
   "metadata": {},
   "outputs": [
    {
     "data": {
      "text/html": [
       "<div>\n",
       "<style scoped>\n",
       "    .dataframe tbody tr th:only-of-type {\n",
       "        vertical-align: middle;\n",
       "    }\n",
       "\n",
       "    .dataframe tbody tr th {\n",
       "        vertical-align: top;\n",
       "    }\n",
       "\n",
       "    .dataframe thead th {\n",
       "        text-align: right;\n",
       "    }\n",
       "</style>\n",
       "<table border=\"1\" class=\"dataframe\">\n",
       "  <thead>\n",
       "    <tr style=\"text-align: right;\">\n",
       "      <th></th>\n",
       "      <th>Name</th>\n",
       "      <th>Major</th>\n",
       "      <th>Grade</th>\n",
       "      <th>Course</th>\n",
       "    </tr>\n",
       "    <tr>\n",
       "      <th>StudentID</th>\n",
       "      <th></th>\n",
       "      <th></th>\n",
       "      <th></th>\n",
       "      <th></th>\n",
       "    </tr>\n",
       "  </thead>\n",
       "  <tbody>\n",
       "    <tr>\n",
       "      <th>S1</th>\n",
       "      <td>Alice</td>\n",
       "      <td>Physics</td>\n",
       "      <td>A</td>\n",
       "      <td>Physics 101</td>\n",
       "    </tr>\n",
       "    <tr>\n",
       "      <th>S2</th>\n",
       "      <td>Bob</td>\n",
       "      <td>Mathematics</td>\n",
       "      <td>NaN</td>\n",
       "      <td>Mathematics 101</td>\n",
       "    </tr>\n",
       "    <tr>\n",
       "      <th>S3</th>\n",
       "      <td>Charlie</td>\n",
       "      <td>Chemistry</td>\n",
       "      <td>B</td>\n",
       "      <td>Chemistry 101</td>\n",
       "    </tr>\n",
       "    <tr>\n",
       "      <th>S4</th>\n",
       "      <td>Dave</td>\n",
       "      <td>Biology</td>\n",
       "      <td>A</td>\n",
       "      <td>NaN</td>\n",
       "    </tr>\n",
       "  </tbody>\n",
       "</table>\n",
       "</div>"
      ],
      "text/plain": [
       "              Name        Major Grade           Course\n",
       "StudentID                                             \n",
       "S1           Alice      Physics     A      Physics 101\n",
       "S2             Bob  Mathematics   NaN  Mathematics 101\n",
       "S3         Charlie    Chemistry     B    Chemistry 101\n",
       "S4            Dave      Biology     A              NaN"
      ]
     },
     "execution_count": 59,
     "metadata": {},
     "output_type": "execute_result"
    }
   ],
   "source": [
    "df_students.set_index('StudentID', inplace=True)\n",
    "df_grades.set_index('StudentID', inplace=True)\n",
    "df_courses.set_index('StudentID', inplace=True)\n",
    "\n",
    "# By default is a Left Join: Keep all rows from the left DataFrame and fill missing values with NaN from the right DataFrame.\n",
    "\n",
    "\n",
    "\n",
    "df_students.join([df_grades, df_courses], how = \"left\")"
   ]
  },
  {
   "cell_type": "markdown",
   "metadata": {
    "id": "XRSh6LOHul_y"
   },
   "source": [
    "## Structuring Data with Pivot, Stack/Unstack, and Melt"
   ]
  },
  {
   "cell_type": "markdown",
   "metadata": {
    "id": "a-3XT1zzul_y"
   },
   "source": [
    "These methods are useful for restructuring, aggregating, and reshaping data to better analyze and visualize it."
   ]
  },
  {
   "cell_type": "markdown",
   "metadata": {
    "id": "UVAvZBmTul_y"
   },
   "source": [
    "### Pivot"
   ]
  },
  {
   "cell_type": "markdown",
   "metadata": {
    "id": "O0x1eXt_ul_y"
   },
   "source": [
    "- Pivot is used to create a new derived table from another one.\n",
    "- Allows us to reshape a DataFrame based on column values.\n",
    "- Converts unique values from one column into multiple columns."
   ]
  },
  {
   "cell_type": "markdown",
   "metadata": {
    "id": "USHSpFV_ul_y"
   },
   "source": [
    "![](https://github.com/data-bootcamp-v4/lessons/blob/main/img/pivot.png?raw=true)"
   ]
  },
  {
   "cell_type": "code",
   "execution_count": 69,
   "metadata": {
    "id": "t-eYQaNnul_y"
   },
   "outputs": [],
   "source": [
    "import pandas as pd\n",
    "\n",
    "# Load Chipotle dataset from an online source\n",
    "url = 'https://raw.githubusercontent.com/data-bootcamp-v4/data/main/worldstats.csv'\n",
    "df = pd.read_csv(url)"
   ]
  },
  {
   "cell_type": "code",
   "execution_count": 71,
   "metadata": {
    "id": "K81upZ8_ul_y",
    "scrolled": true
   },
   "outputs": [
    {
     "data": {
      "text/html": [
       "<div>\n",
       "<style scoped>\n",
       "    .dataframe tbody tr th:only-of-type {\n",
       "        vertical-align: middle;\n",
       "    }\n",
       "\n",
       "    .dataframe tbody tr th {\n",
       "        vertical-align: top;\n",
       "    }\n",
       "\n",
       "    .dataframe thead th {\n",
       "        text-align: right;\n",
       "    }\n",
       "</style>\n",
       "<table border=\"1\" class=\"dataframe\">\n",
       "  <thead>\n",
       "    <tr style=\"text-align: right;\">\n",
       "      <th></th>\n",
       "      <th>country</th>\n",
       "      <th>year</th>\n",
       "      <th>Population</th>\n",
       "      <th>GDP</th>\n",
       "    </tr>\n",
       "  </thead>\n",
       "  <tbody>\n",
       "    <tr>\n",
       "      <th>0</th>\n",
       "      <td>Arab World</td>\n",
       "      <td>2015</td>\n",
       "      <td>392022276.0</td>\n",
       "      <td>2.530102e+12</td>\n",
       "    </tr>\n",
       "  </tbody>\n",
       "</table>\n",
       "</div>"
      ],
      "text/plain": [
       "      country  year   Population           GDP\n",
       "0  Arab World  2015  392022276.0  2.530102e+12"
      ]
     },
     "execution_count": 71,
     "metadata": {},
     "output_type": "execute_result"
    }
   ],
   "source": [
    "df.head(1)"
   ]
  },
  {
   "cell_type": "code",
   "execution_count": 98,
   "metadata": {
    "id": "k9DBiPgdul_z"
   },
   "outputs": [
    {
     "ename": "KeyError",
     "evalue": "'GDP'",
     "output_type": "error",
     "traceback": [
      "\u001b[0;31m---------------------------------------------------------------------------\u001b[0m",
      "\u001b[0;31mKeyError\u001b[0m                                  Traceback (most recent call last)",
      "Cell \u001b[0;32mIn[98], line 2\u001b[0m\n\u001b[1;32m      1\u001b[0m \u001b[38;5;66;03m# Pivot the DataFrame to see the GDP based on the country and year\u001b[39;00m\n\u001b[0;32m----> 2\u001b[0m pivot_df \u001b[38;5;241m=\u001b[39m df\u001b[38;5;241m.\u001b[39mpivot_table(index\u001b[38;5;241m=\u001b[39m\u001b[38;5;124m'\u001b[39m\u001b[38;5;124mcountry\u001b[39m\u001b[38;5;124m'\u001b[39m, columns\u001b[38;5;241m=\u001b[39m\u001b[38;5;124m'\u001b[39m\u001b[38;5;124myear\u001b[39m\u001b[38;5;124m'\u001b[39m, values\u001b[38;5;241m=\u001b[39m[\u001b[38;5;124m'\u001b[39m\u001b[38;5;124mGDP\u001b[39m\u001b[38;5;124m'\u001b[39m])\n",
      "File \u001b[0;32m/opt/anaconda3/lib/python3.12/site-packages/pandas/core/frame.py:9509\u001b[0m, in \u001b[0;36mDataFrame.pivot_table\u001b[0;34m(self, values, index, columns, aggfunc, fill_value, margins, dropna, margins_name, observed, sort)\u001b[0m\n\u001b[1;32m   9492\u001b[0m \u001b[38;5;129m@Substitution\u001b[39m(\u001b[38;5;124m\"\u001b[39m\u001b[38;5;124m\"\u001b[39m)\n\u001b[1;32m   9493\u001b[0m \u001b[38;5;129m@Appender\u001b[39m(_shared_docs[\u001b[38;5;124m\"\u001b[39m\u001b[38;5;124mpivot_table\u001b[39m\u001b[38;5;124m\"\u001b[39m])\n\u001b[1;32m   9494\u001b[0m \u001b[38;5;28;01mdef\u001b[39;00m \u001b[38;5;21mpivot_table\u001b[39m(\n\u001b[0;32m   (...)\u001b[0m\n\u001b[1;32m   9505\u001b[0m     sort: \u001b[38;5;28mbool\u001b[39m \u001b[38;5;241m=\u001b[39m \u001b[38;5;28;01mTrue\u001b[39;00m,\n\u001b[1;32m   9506\u001b[0m ) \u001b[38;5;241m-\u001b[39m\u001b[38;5;241m>\u001b[39m DataFrame:\n\u001b[1;32m   9507\u001b[0m     \u001b[38;5;28;01mfrom\u001b[39;00m \u001b[38;5;21;01mpandas\u001b[39;00m\u001b[38;5;21;01m.\u001b[39;00m\u001b[38;5;21;01mcore\u001b[39;00m\u001b[38;5;21;01m.\u001b[39;00m\u001b[38;5;21;01mreshape\u001b[39;00m\u001b[38;5;21;01m.\u001b[39;00m\u001b[38;5;21;01mpivot\u001b[39;00m \u001b[38;5;28;01mimport\u001b[39;00m pivot_table\n\u001b[0;32m-> 9509\u001b[0m     \u001b[38;5;28;01mreturn\u001b[39;00m pivot_table(\n\u001b[1;32m   9510\u001b[0m         \u001b[38;5;28mself\u001b[39m,\n\u001b[1;32m   9511\u001b[0m         values\u001b[38;5;241m=\u001b[39mvalues,\n\u001b[1;32m   9512\u001b[0m         index\u001b[38;5;241m=\u001b[39mindex,\n\u001b[1;32m   9513\u001b[0m         columns\u001b[38;5;241m=\u001b[39mcolumns,\n\u001b[1;32m   9514\u001b[0m         aggfunc\u001b[38;5;241m=\u001b[39maggfunc,\n\u001b[1;32m   9515\u001b[0m         fill_value\u001b[38;5;241m=\u001b[39mfill_value,\n\u001b[1;32m   9516\u001b[0m         margins\u001b[38;5;241m=\u001b[39mmargins,\n\u001b[1;32m   9517\u001b[0m         dropna\u001b[38;5;241m=\u001b[39mdropna,\n\u001b[1;32m   9518\u001b[0m         margins_name\u001b[38;5;241m=\u001b[39mmargins_name,\n\u001b[1;32m   9519\u001b[0m         observed\u001b[38;5;241m=\u001b[39mobserved,\n\u001b[1;32m   9520\u001b[0m         sort\u001b[38;5;241m=\u001b[39msort,\n\u001b[1;32m   9521\u001b[0m     )\n",
      "File \u001b[0;32m/opt/anaconda3/lib/python3.12/site-packages/pandas/core/reshape/pivot.py:102\u001b[0m, in \u001b[0;36mpivot_table\u001b[0;34m(data, values, index, columns, aggfunc, fill_value, margins, dropna, margins_name, observed, sort)\u001b[0m\n\u001b[1;32m     99\u001b[0m     table \u001b[38;5;241m=\u001b[39m concat(pieces, keys\u001b[38;5;241m=\u001b[39mkeys, axis\u001b[38;5;241m=\u001b[39m\u001b[38;5;241m1\u001b[39m)\n\u001b[1;32m    100\u001b[0m     \u001b[38;5;28;01mreturn\u001b[39;00m table\u001b[38;5;241m.\u001b[39m__finalize__(data, method\u001b[38;5;241m=\u001b[39m\u001b[38;5;124m\"\u001b[39m\u001b[38;5;124mpivot_table\u001b[39m\u001b[38;5;124m\"\u001b[39m)\n\u001b[0;32m--> 102\u001b[0m table \u001b[38;5;241m=\u001b[39m __internal_pivot_table(\n\u001b[1;32m    103\u001b[0m     data,\n\u001b[1;32m    104\u001b[0m     values,\n\u001b[1;32m    105\u001b[0m     index,\n\u001b[1;32m    106\u001b[0m     columns,\n\u001b[1;32m    107\u001b[0m     aggfunc,\n\u001b[1;32m    108\u001b[0m     fill_value,\n\u001b[1;32m    109\u001b[0m     margins,\n\u001b[1;32m    110\u001b[0m     dropna,\n\u001b[1;32m    111\u001b[0m     margins_name,\n\u001b[1;32m    112\u001b[0m     observed,\n\u001b[1;32m    113\u001b[0m     sort,\n\u001b[1;32m    114\u001b[0m )\n\u001b[1;32m    115\u001b[0m \u001b[38;5;28;01mreturn\u001b[39;00m table\u001b[38;5;241m.\u001b[39m__finalize__(data, method\u001b[38;5;241m=\u001b[39m\u001b[38;5;124m\"\u001b[39m\u001b[38;5;124mpivot_table\u001b[39m\u001b[38;5;124m\"\u001b[39m)\n",
      "File \u001b[0;32m/opt/anaconda3/lib/python3.12/site-packages/pandas/core/reshape/pivot.py:148\u001b[0m, in \u001b[0;36m__internal_pivot_table\u001b[0;34m(data, values, index, columns, aggfunc, fill_value, margins, dropna, margins_name, observed, sort)\u001b[0m\n\u001b[1;32m    146\u001b[0m \u001b[38;5;28;01mfor\u001b[39;00m i \u001b[38;5;129;01min\u001b[39;00m values:\n\u001b[1;32m    147\u001b[0m     \u001b[38;5;28;01mif\u001b[39;00m i \u001b[38;5;129;01mnot\u001b[39;00m \u001b[38;5;129;01min\u001b[39;00m data:\n\u001b[0;32m--> 148\u001b[0m         \u001b[38;5;28;01mraise\u001b[39;00m \u001b[38;5;167;01mKeyError\u001b[39;00m(i)\n\u001b[1;32m    150\u001b[0m to_filter \u001b[38;5;241m=\u001b[39m []\n\u001b[1;32m    151\u001b[0m \u001b[38;5;28;01mfor\u001b[39;00m x \u001b[38;5;129;01min\u001b[39;00m keys \u001b[38;5;241m+\u001b[39m values:\n",
      "\u001b[0;31mKeyError\u001b[0m: 'GDP'"
     ]
    }
   ],
   "source": [
    "# Pivot the DataFrame to see the GDP based on the country and year\n",
    "pivot_df = df.pivot_table(index='country', columns='year', values=['GDP'], aggfunc='sum')"
   ]
  },
  {
   "cell_type": "code",
   "execution_count": null,
   "metadata": {
    "id": "fyVoCBuaul_z"
   },
   "outputs": [],
   "source": [
    "pivot_df"
   ]
  },
  {
   "cell_type": "markdown",
   "metadata": {
    "id": "Fns9j8Sjul_0"
   },
   "source": [
    "### Stack and Unstack"
   ]
  },
  {
   "cell_type": "markdown",
   "metadata": {
    "id": "uKqDsu7rul_0"
   },
   "source": [
    "In pandas, `stack()` and `unstack()` are two methods used to transform data between \"wide\" and \"long\" formats in a DataFrame.\n",
    "\n",
    "- `stack()`: This method \"stacks\" the data, converting the **columns into rows**, and results in a multi-level index. It is useful when you have a DataFrame with multiple columns representing similar data, and you want to combine them into a single column.\n",
    "\n",
    "- `unstack()`: This method does the opposite of `stack()`. It \"unstacks\" the data, converting the **index back into columns**, and results in a more \"wide\" format. It is useful when you have a DataFrame with multi-level index and you want to separate the levels into separate columns.\n"
   ]
  },
  {
   "cell_type": "markdown",
   "metadata": {
    "id": "a5IOK8c0ul_0"
   },
   "source": [
    "![](https://github.com/data-bootcamp-v4/lessons/blob/main/img/stack.png?raw=true)"
   ]
  },
  {
   "cell_type": "code",
   "execution_count": 91,
   "metadata": {
    "id": "rxe3gjk5ul_0"
   },
   "outputs": [
    {
     "ename": "KeyError",
     "evalue": "\"None of ['country', 'year'] are in the columns\"",
     "output_type": "error",
     "traceback": [
      "\u001b[0;31m---------------------------------------------------------------------------\u001b[0m",
      "\u001b[0;31mKeyError\u001b[0m                                  Traceback (most recent call last)",
      "\u001b[0;32m/var/folders/ld/275050r97dd74s4xh62v6x9m0000gn/T/ipykernel_22730/3657490847.py\u001b[0m in \u001b[0;36m?\u001b[0;34m()\u001b[0m\n\u001b[1;32m      1\u001b[0m \u001b[0;31m# Create a multi-index DataFrame using set_index with 'country' and 'year' as the index columns\u001b[0m\u001b[0;34m\u001b[0m\u001b[0;34m\u001b[0m\u001b[0m\n\u001b[0;32m----> 2\u001b[0;31m \u001b[0mdf_multiindex\u001b[0m \u001b[0;34m=\u001b[0m \u001b[0mdf\u001b[0m\u001b[0;34m.\u001b[0m\u001b[0mset_index\u001b[0m\u001b[0;34m(\u001b[0m\u001b[0;34m[\u001b[0m\u001b[0;34m'country'\u001b[0m\u001b[0;34m,\u001b[0m \u001b[0;34m'year'\u001b[0m\u001b[0;34m]\u001b[0m\u001b[0;34m)\u001b[0m\u001b[0;34m\u001b[0m\u001b[0;34m\u001b[0m\u001b[0m\n\u001b[0m\u001b[1;32m      3\u001b[0m \u001b[0mdf_multiindex\u001b[0m\u001b[0;34m\u001b[0m\u001b[0;34m\u001b[0m\u001b[0m\n",
      "\u001b[0;32m/opt/anaconda3/lib/python3.12/site-packages/pandas/core/frame.py\u001b[0m in \u001b[0;36m?\u001b[0;34m(self, keys, drop, append, inplace, verify_integrity)\u001b[0m\n\u001b[1;32m   6118\u001b[0m                     \u001b[0;32mif\u001b[0m \u001b[0;32mnot\u001b[0m \u001b[0mfound\u001b[0m\u001b[0;34m:\u001b[0m\u001b[0;34m\u001b[0m\u001b[0;34m\u001b[0m\u001b[0m\n\u001b[1;32m   6119\u001b[0m                         \u001b[0mmissing\u001b[0m\u001b[0;34m.\u001b[0m\u001b[0mappend\u001b[0m\u001b[0;34m(\u001b[0m\u001b[0mcol\u001b[0m\u001b[0;34m)\u001b[0m\u001b[0;34m\u001b[0m\u001b[0;34m\u001b[0m\u001b[0m\n\u001b[1;32m   6120\u001b[0m \u001b[0;34m\u001b[0m\u001b[0m\n\u001b[1;32m   6121\u001b[0m         \u001b[0;32mif\u001b[0m \u001b[0mmissing\u001b[0m\u001b[0;34m:\u001b[0m\u001b[0;34m\u001b[0m\u001b[0;34m\u001b[0m\u001b[0m\n\u001b[0;32m-> 6122\u001b[0;31m             \u001b[0;32mraise\u001b[0m \u001b[0mKeyError\u001b[0m\u001b[0;34m(\u001b[0m\u001b[0;34mf\"\u001b[0m\u001b[0;34mNone of \u001b[0m\u001b[0;34m{\u001b[0m\u001b[0mmissing\u001b[0m\u001b[0;34m}\u001b[0m\u001b[0;34m are in the columns\u001b[0m\u001b[0;34m\"\u001b[0m\u001b[0;34m)\u001b[0m\u001b[0;34m\u001b[0m\u001b[0;34m\u001b[0m\u001b[0m\n\u001b[0m\u001b[1;32m   6123\u001b[0m \u001b[0;34m\u001b[0m\u001b[0m\n\u001b[1;32m   6124\u001b[0m         \u001b[0;32mif\u001b[0m \u001b[0minplace\u001b[0m\u001b[0;34m:\u001b[0m\u001b[0;34m\u001b[0m\u001b[0;34m\u001b[0m\u001b[0m\n\u001b[1;32m   6125\u001b[0m             \u001b[0mframe\u001b[0m \u001b[0;34m=\u001b[0m \u001b[0mself\u001b[0m\u001b[0;34m\u001b[0m\u001b[0;34m\u001b[0m\u001b[0m\n",
      "\u001b[0;31mKeyError\u001b[0m: \"None of ['country', 'year'] are in the columns\""
     ]
    }
   ],
   "source": [
    "# Create a multi-index DataFrame using set_index with 'country' and 'year' as the index columns\n",
    "df_multiindex = df.set_index(['country', 'year'])\n",
    "df_multiindex"
   ]
  },
  {
   "cell_type": "code",
   "execution_count": null,
   "metadata": {
    "id": "8OlhxWNeul_0"
   },
   "outputs": [],
   "source": [
    "# Stack the DataFrame to convert columns into rows and create a Series\n",
    "stacked_data = df_multiindex.stack()\n",
    "stacked_data"
   ]
  },
  {
   "cell_type": "code",
   "execution_count": null,
   "metadata": {
    "id": "JyDXPEaLul_0"
   },
   "outputs": [],
   "source": [
    "# Unstack the Series back into a DataFrame with the 'year' level as columns\n",
    "unstacked_data = stacked_data.unstack('year')\n",
    "\n",
    "unstacked_data.head()"
   ]
  },
  {
   "cell_type": "markdown",
   "metadata": {
    "id": "HvJFWc9Hul_1"
   },
   "source": [
    "### Melt"
   ]
  },
  {
   "cell_type": "markdown",
   "metadata": {
    "id": "4sctzSq1ul_1"
   },
   "source": [
    "The `melt()` function in pandas is used to transform a DataFrame from a **wide format to a long format**, which is often more suitable for certain data analysis tasks. In the wide format, each row represents a unique observation, and each column represents a different variable. However, in the long format, multiple rows may represent the same observation, and a new column is introduced to distinguish between the different variables."
   ]
  },
  {
   "cell_type": "markdown",
   "metadata": {
    "id": "P0BF5UUMul_1"
   },
   "source": [
    "![](https://github.com/data-bootcamp-v4/lessons/blob/main/img/melt.png?raw=true)"
   ]
  },
  {
   "cell_type": "code",
   "execution_count": 100,
   "metadata": {
    "id": "WMVHDgIYul_1"
   },
   "outputs": [
    {
     "ename": "KeyError",
     "evalue": "\"The following id_vars or value_vars are not present in the DataFrame: ['country', 'year', 'Population', 'GDP']\"",
     "output_type": "error",
     "traceback": [
      "\u001b[0;31m---------------------------------------------------------------------------\u001b[0m",
      "\u001b[0;31mKeyError\u001b[0m                                  Traceback (most recent call last)",
      "Cell \u001b[0;32mIn[100], line 2\u001b[0m\n\u001b[1;32m      1\u001b[0m \u001b[38;5;66;03m# Melt the DataFrame, keeping 'country' and 'year' as identifier variables, and 'Population' and 'GDP' as value variables\u001b[39;00m\n\u001b[0;32m----> 2\u001b[0m melted_data \u001b[38;5;241m=\u001b[39m pd\u001b[38;5;241m.\u001b[39mmelt(df, id_vars\u001b[38;5;241m=\u001b[39m[\u001b[38;5;124m'\u001b[39m\u001b[38;5;124mcountry\u001b[39m\u001b[38;5;124m'\u001b[39m, \u001b[38;5;124m'\u001b[39m\u001b[38;5;124myear\u001b[39m\u001b[38;5;124m'\u001b[39m], value_vars\u001b[38;5;241m=\u001b[39m[\u001b[38;5;124m'\u001b[39m\u001b[38;5;124mPopulation\u001b[39m\u001b[38;5;124m'\u001b[39m, \u001b[38;5;124m'\u001b[39m\u001b[38;5;124mGDP\u001b[39m\u001b[38;5;124m'\u001b[39m], var_name\u001b[38;5;241m=\u001b[39m\u001b[38;5;124m'\u001b[39m\u001b[38;5;124mIndicator\u001b[39m\u001b[38;5;124m'\u001b[39m, value_name\u001b[38;5;241m=\u001b[39m\u001b[38;5;124m'\u001b[39m\u001b[38;5;124mValue\u001b[39m\u001b[38;5;124m'\u001b[39m)\n\u001b[1;32m      3\u001b[0m melted_data\u001b[38;5;241m.\u001b[39mhead()\n",
      "File \u001b[0;32m/opt/anaconda3/lib/python3.12/site-packages/pandas/core/reshape/melt.py:74\u001b[0m, in \u001b[0;36mmelt\u001b[0;34m(frame, id_vars, value_vars, var_name, value_name, col_level, ignore_index)\u001b[0m\n\u001b[1;32m     70\u001b[0m \u001b[38;5;28;01mif\u001b[39;00m missing\u001b[38;5;241m.\u001b[39many():\n\u001b[1;32m     71\u001b[0m     missing_labels \u001b[38;5;241m=\u001b[39m [\n\u001b[1;32m     72\u001b[0m         lab \u001b[38;5;28;01mfor\u001b[39;00m lab, not_found \u001b[38;5;129;01min\u001b[39;00m \u001b[38;5;28mzip\u001b[39m(labels, missing) \u001b[38;5;28;01mif\u001b[39;00m not_found\n\u001b[1;32m     73\u001b[0m     ]\n\u001b[0;32m---> 74\u001b[0m     \u001b[38;5;28;01mraise\u001b[39;00m \u001b[38;5;167;01mKeyError\u001b[39;00m(\n\u001b[1;32m     75\u001b[0m         \u001b[38;5;124m\"\u001b[39m\u001b[38;5;124mThe following id_vars or value_vars are not present in \u001b[39m\u001b[38;5;124m\"\u001b[39m\n\u001b[1;32m     76\u001b[0m         \u001b[38;5;124mf\u001b[39m\u001b[38;5;124m\"\u001b[39m\u001b[38;5;124mthe DataFrame: \u001b[39m\u001b[38;5;132;01m{\u001b[39;00mmissing_labels\u001b[38;5;132;01m}\u001b[39;00m\u001b[38;5;124m\"\u001b[39m\n\u001b[1;32m     77\u001b[0m     )\n\u001b[1;32m     78\u001b[0m \u001b[38;5;28;01mif\u001b[39;00m value_vars_was_not_none:\n\u001b[1;32m     79\u001b[0m     frame \u001b[38;5;241m=\u001b[39m frame\u001b[38;5;241m.\u001b[39miloc[:, algos\u001b[38;5;241m.\u001b[39munique(idx)]\n",
      "\u001b[0;31mKeyError\u001b[0m: \"The following id_vars or value_vars are not present in the DataFrame: ['country', 'year', 'Population', 'GDP']\""
     ]
    }
   ],
   "source": [
    "# Melt the DataFrame, keeping 'country' and 'year' as identifier variables, and 'Population' and 'GDP' as value variables\n",
    "melted_data = pd.melt(df, id_vars=['country', 'year'], value_vars=['Population', 'GDP'], var_name='Indicator', value_name='Value')\n",
    "melted_data.head()"
   ]
  },
  {
   "cell_type": "markdown",
   "metadata": {
    "id": "RE9YvEe6ul_1"
   },
   "source": [
    "### Summary"
   ]
  },
  {
   "cell_type": "markdown",
   "metadata": {
    "id": "7yERr76hul_1"
   },
   "source": [
    "- `pivot` is used to create a new derived table from an existing one by reshaping a DataFrame based on column values and converting unique values from one column into multiple columns.\n",
    "- `stack` and `unstack` are used to transform data between \"wide\" and \"long\" formats.\n",
    "  - `stack` converts columns into rows, leading to a multi-level index. It's useful when multiple columns represent similar data that you want to combine into a single column.\n",
    "  - `unstack` does the opposite of `stack`, converting the index back into columns and leading to a more \"wide\" format. It's useful when a DataFrame has a multi-level index that you want to separate into different columns.\n",
    "- `melt` transforms a DataFrame from a wide format to a long format. It's useful for certain data analysis tasks where each row represents a unique observation in the wide format, but in the long format, multiple rows represent the same observation, and a new column is introduced to distinguish between different variables."
   ]
  },
  {
   "cell_type": "markdown",
   "metadata": {
    "id": "XG913Gotul_1"
   },
   "source": [
    "### 💡 Check for understanding"
   ]
  },
  {
   "cell_type": "markdown",
   "metadata": {
    "id": "k1xgA7hpul_1"
   },
   "source": [
    "You are given a DataFrame with sales data for a company. The DataFrame contains information about the sales of various products in different regions. Create a summary of the total sales for each product in each region.\n",
    "\n",
    "\n",
    "Dataset:\n",
    "\n",
    "```python\n",
    "import pandas as pd\n",
    "\n",
    "data = {\n",
    "    'Product': ['A', 'B', 'C', 'A', 'B', 'C', 'A', 'B', 'C'],\n",
    "    'Region': ['North', 'North', 'North', 'South', 'South', 'South', 'East', 'East', 'East'],\n",
    "    'Sales': [100, 150, 200, 120, 180, 240, 80, 110, 160]\n",
    "}\n",
    "\n",
    "df = pd.DataFrame(data)\n",
    "```\n",
    "\n",
    "Expected output:\n",
    "\n",
    "```python\n",
    "Region   East  North  South\n",
    "\n",
    "Product                    \n",
    "\n",
    "A          80    100    120\n",
    "\n",
    "B         110    150    180\n",
    "\n",
    "C         160    200    240\n",
    "```"
   ]
  },
  {
   "cell_type": "code",
   "execution_count": 87,
   "metadata": {
    "id": "A7UsQtbOul_1"
   },
   "outputs": [
    {
     "data": {
      "text/html": [
       "<div>\n",
       "<style scoped>\n",
       "    .dataframe tbody tr th:only-of-type {\n",
       "        vertical-align: middle;\n",
       "    }\n",
       "\n",
       "    .dataframe tbody tr th {\n",
       "        vertical-align: top;\n",
       "    }\n",
       "\n",
       "    .dataframe thead th {\n",
       "        text-align: right;\n",
       "    }\n",
       "</style>\n",
       "<table border=\"1\" class=\"dataframe\">\n",
       "  <thead>\n",
       "    <tr style=\"text-align: right;\">\n",
       "      <th></th>\n",
       "      <th>Product</th>\n",
       "      <th>Region</th>\n",
       "      <th>Sales</th>\n",
       "    </tr>\n",
       "  </thead>\n",
       "  <tbody>\n",
       "    <tr>\n",
       "      <th>0</th>\n",
       "      <td>A</td>\n",
       "      <td>North</td>\n",
       "      <td>100</td>\n",
       "    </tr>\n",
       "    <tr>\n",
       "      <th>1</th>\n",
       "      <td>B</td>\n",
       "      <td>North</td>\n",
       "      <td>150</td>\n",
       "    </tr>\n",
       "    <tr>\n",
       "      <th>2</th>\n",
       "      <td>C</td>\n",
       "      <td>North</td>\n",
       "      <td>200</td>\n",
       "    </tr>\n",
       "    <tr>\n",
       "      <th>3</th>\n",
       "      <td>A</td>\n",
       "      <td>South</td>\n",
       "      <td>120</td>\n",
       "    </tr>\n",
       "    <tr>\n",
       "      <th>4</th>\n",
       "      <td>B</td>\n",
       "      <td>South</td>\n",
       "      <td>180</td>\n",
       "    </tr>\n",
       "    <tr>\n",
       "      <th>5</th>\n",
       "      <td>C</td>\n",
       "      <td>South</td>\n",
       "      <td>240</td>\n",
       "    </tr>\n",
       "    <tr>\n",
       "      <th>6</th>\n",
       "      <td>A</td>\n",
       "      <td>East</td>\n",
       "      <td>80</td>\n",
       "    </tr>\n",
       "    <tr>\n",
       "      <th>7</th>\n",
       "      <td>B</td>\n",
       "      <td>East</td>\n",
       "      <td>110</td>\n",
       "    </tr>\n",
       "    <tr>\n",
       "      <th>8</th>\n",
       "      <td>C</td>\n",
       "      <td>East</td>\n",
       "      <td>160</td>\n",
       "    </tr>\n",
       "  </tbody>\n",
       "</table>\n",
       "</div>"
      ],
      "text/plain": [
       "  Product Region  Sales\n",
       "0       A  North    100\n",
       "1       B  North    150\n",
       "2       C  North    200\n",
       "3       A  South    120\n",
       "4       B  South    180\n",
       "5       C  South    240\n",
       "6       A   East     80\n",
       "7       B   East    110\n",
       "8       C   East    160"
      ]
     },
     "execution_count": 87,
     "metadata": {},
     "output_type": "execute_result"
    }
   ],
   "source": [
    "import pandas as pd\n",
    "\n",
    "data = {\n",
    "    'Product': ['A', 'B', 'C', 'A', 'B', 'C', 'A', 'B', 'C'],\n",
    "    'Region': ['North', 'North', 'North', 'South', 'South', 'South', 'East', 'East', 'East'],\n",
    "    'Sales': [100, 150, 200, 120, 180, 240, 80, 110, 160]\n",
    "}\n",
    "\n",
    "df = pd.DataFrame(data)\n",
    "\n",
    "df"
   ]
  },
  {
   "cell_type": "code",
   "execution_count": 89,
   "metadata": {},
   "outputs": [
    {
     "data": {
      "text/html": [
       "<div>\n",
       "<style scoped>\n",
       "    .dataframe tbody tr th:only-of-type {\n",
       "        vertical-align: middle;\n",
       "    }\n",
       "\n",
       "    .dataframe tbody tr th {\n",
       "        vertical-align: top;\n",
       "    }\n",
       "\n",
       "    .dataframe thead th {\n",
       "        text-align: right;\n",
       "    }\n",
       "</style>\n",
       "<table border=\"1\" class=\"dataframe\">\n",
       "  <thead>\n",
       "    <tr style=\"text-align: right;\">\n",
       "      <th>Region</th>\n",
       "      <th>East</th>\n",
       "      <th>North</th>\n",
       "      <th>South</th>\n",
       "    </tr>\n",
       "    <tr>\n",
       "      <th>Product</th>\n",
       "      <th></th>\n",
       "      <th></th>\n",
       "      <th></th>\n",
       "    </tr>\n",
       "  </thead>\n",
       "  <tbody>\n",
       "    <tr>\n",
       "      <th>A</th>\n",
       "      <td>80</td>\n",
       "      <td>100</td>\n",
       "      <td>120</td>\n",
       "    </tr>\n",
       "    <tr>\n",
       "      <th>B</th>\n",
       "      <td>110</td>\n",
       "      <td>150</td>\n",
       "      <td>180</td>\n",
       "    </tr>\n",
       "    <tr>\n",
       "      <th>C</th>\n",
       "      <td>160</td>\n",
       "      <td>200</td>\n",
       "      <td>240</td>\n",
       "    </tr>\n",
       "  </tbody>\n",
       "</table>\n",
       "</div>"
      ],
      "text/plain": [
       "Region   East  North  South\n",
       "Product                    \n",
       "A          80    100    120\n",
       "B         110    150    180\n",
       "C         160    200    240"
      ]
     },
     "execution_count": 89,
     "metadata": {},
     "output_type": "execute_result"
    }
   ],
   "source": [
    "df.pivot_table(index = \"Product\" , columns = \"Region\", values =\"Sales\",aggfunc = \"sum\")"
   ]
  },
  {
   "cell_type": "code",
   "execution_count": null,
   "metadata": {},
   "outputs": [],
   "source": [
    "pivot_df = df.pivot_table(index='country', columns='year', values=['GDP'], aggfunc='sum')"
   ]
  },
  {
   "cell_type": "code",
   "execution_count": 102,
   "metadata": {},
   "outputs": [],
   "source": [
    "sales_df = df.groupby([\"Product\", \"Region\"])[\"Sales\"].sum().reset_index()"
   ]
  },
  {
   "cell_type": "code",
   "execution_count": 104,
   "metadata": {},
   "outputs": [
    {
     "data": {
      "text/html": [
       "<div>\n",
       "<style scoped>\n",
       "    .dataframe tbody tr th:only-of-type {\n",
       "        vertical-align: middle;\n",
       "    }\n",
       "\n",
       "    .dataframe tbody tr th {\n",
       "        vertical-align: top;\n",
       "    }\n",
       "\n",
       "    .dataframe thead th {\n",
       "        text-align: right;\n",
       "    }\n",
       "</style>\n",
       "<table border=\"1\" class=\"dataframe\">\n",
       "  <thead>\n",
       "    <tr style=\"text-align: right;\">\n",
       "      <th></th>\n",
       "      <th>Product</th>\n",
       "      <th>Sales</th>\n",
       "    </tr>\n",
       "    <tr>\n",
       "      <th>Region</th>\n",
       "      <th></th>\n",
       "      <th></th>\n",
       "    </tr>\n",
       "  </thead>\n",
       "  <tbody>\n",
       "    <tr>\n",
       "      <th>East</th>\n",
       "      <td>A</td>\n",
       "      <td>80</td>\n",
       "    </tr>\n",
       "    <tr>\n",
       "      <th>North</th>\n",
       "      <td>A</td>\n",
       "      <td>100</td>\n",
       "    </tr>\n",
       "    <tr>\n",
       "      <th>South</th>\n",
       "      <td>A</td>\n",
       "      <td>120</td>\n",
       "    </tr>\n",
       "    <tr>\n",
       "      <th>East</th>\n",
       "      <td>B</td>\n",
       "      <td>110</td>\n",
       "    </tr>\n",
       "    <tr>\n",
       "      <th>North</th>\n",
       "      <td>B</td>\n",
       "      <td>150</td>\n",
       "    </tr>\n",
       "    <tr>\n",
       "      <th>South</th>\n",
       "      <td>B</td>\n",
       "      <td>180</td>\n",
       "    </tr>\n",
       "    <tr>\n",
       "      <th>East</th>\n",
       "      <td>C</td>\n",
       "      <td>160</td>\n",
       "    </tr>\n",
       "    <tr>\n",
       "      <th>North</th>\n",
       "      <td>C</td>\n",
       "      <td>200</td>\n",
       "    </tr>\n",
       "    <tr>\n",
       "      <th>South</th>\n",
       "      <td>C</td>\n",
       "      <td>240</td>\n",
       "    </tr>\n",
       "  </tbody>\n",
       "</table>\n",
       "</div>"
      ],
      "text/plain": [
       "       Product  Sales\n",
       "Region               \n",
       "East         A     80\n",
       "North        A    100\n",
       "South        A    120\n",
       "East         B    110\n",
       "North        B    150\n",
       "South        B    180\n",
       "East         C    160\n",
       "North        C    200\n",
       "South        C    240"
      ]
     },
     "execution_count": 104,
     "metadata": {},
     "output_type": "execute_result"
    }
   ],
   "source": [
    "sales_df.set_index(\"Region\")"
   ]
  },
  {
   "cell_type": "code",
   "execution_count": 106,
   "metadata": {},
   "outputs": [
    {
     "ename": "KeyError",
     "evalue": "'Requested level (Region) does not match index name (None)'",
     "output_type": "error",
     "traceback": [
      "\u001b[0;31m---------------------------------------------------------------------------\u001b[0m",
      "\u001b[0;31mKeyError\u001b[0m                                  Traceback (most recent call last)",
      "Cell \u001b[0;32mIn[106], line 1\u001b[0m\n\u001b[0;32m----> 1\u001b[0m sales_df\u001b[38;5;241m.\u001b[39munstack(\u001b[38;5;124m\"\u001b[39m\u001b[38;5;124mRegion\u001b[39m\u001b[38;5;124m\"\u001b[39m)\n",
      "File \u001b[0;32m/opt/anaconda3/lib/python3.12/site-packages/pandas/core/frame.py:9928\u001b[0m, in \u001b[0;36mDataFrame.unstack\u001b[0;34m(self, level, fill_value, sort)\u001b[0m\n\u001b[1;32m   9864\u001b[0m \u001b[38;5;250m\u001b[39m\u001b[38;5;124;03m\"\"\"\u001b[39;00m\n\u001b[1;32m   9865\u001b[0m \u001b[38;5;124;03mPivot a level of the (necessarily hierarchical) index labels.\u001b[39;00m\n\u001b[1;32m   9866\u001b[0m \n\u001b[0;32m   (...)\u001b[0m\n\u001b[1;32m   9924\u001b[0m \u001b[38;5;124;03mdtype: float64\u001b[39;00m\n\u001b[1;32m   9925\u001b[0m \u001b[38;5;124;03m\"\"\"\u001b[39;00m\n\u001b[1;32m   9926\u001b[0m \u001b[38;5;28;01mfrom\u001b[39;00m \u001b[38;5;21;01mpandas\u001b[39;00m\u001b[38;5;21;01m.\u001b[39;00m\u001b[38;5;21;01mcore\u001b[39;00m\u001b[38;5;21;01m.\u001b[39;00m\u001b[38;5;21;01mreshape\u001b[39;00m\u001b[38;5;21;01m.\u001b[39;00m\u001b[38;5;21;01mreshape\u001b[39;00m \u001b[38;5;28;01mimport\u001b[39;00m unstack\n\u001b[0;32m-> 9928\u001b[0m result \u001b[38;5;241m=\u001b[39m unstack(\u001b[38;5;28mself\u001b[39m, level, fill_value, sort)\n\u001b[1;32m   9930\u001b[0m \u001b[38;5;28;01mreturn\u001b[39;00m result\u001b[38;5;241m.\u001b[39m__finalize__(\u001b[38;5;28mself\u001b[39m, method\u001b[38;5;241m=\u001b[39m\u001b[38;5;124m\"\u001b[39m\u001b[38;5;124munstack\u001b[39m\u001b[38;5;124m\"\u001b[39m)\n",
      "File \u001b[0;32m/opt/anaconda3/lib/python3.12/site-packages/pandas/core/reshape/reshape.py:500\u001b[0m, in \u001b[0;36munstack\u001b[0;34m(obj, level, fill_value, sort)\u001b[0m\n\u001b[1;32m    496\u001b[0m         level \u001b[38;5;241m=\u001b[39m level[\u001b[38;5;241m0\u001b[39m]\n\u001b[1;32m    498\u001b[0m \u001b[38;5;28;01mif\u001b[39;00m \u001b[38;5;129;01mnot\u001b[39;00m is_integer(level) \u001b[38;5;129;01mand\u001b[39;00m \u001b[38;5;129;01mnot\u001b[39;00m level \u001b[38;5;241m==\u001b[39m \u001b[38;5;124m\"\u001b[39m\u001b[38;5;124m__placeholder__\u001b[39m\u001b[38;5;124m\"\u001b[39m:\n\u001b[1;32m    499\u001b[0m     \u001b[38;5;66;03m# check if level is valid in case of regular index\u001b[39;00m\n\u001b[0;32m--> 500\u001b[0m     obj\u001b[38;5;241m.\u001b[39mindex\u001b[38;5;241m.\u001b[39m_get_level_number(level)\n\u001b[1;32m    502\u001b[0m \u001b[38;5;28;01mif\u001b[39;00m \u001b[38;5;28misinstance\u001b[39m(obj, DataFrame):\n\u001b[1;32m    503\u001b[0m     \u001b[38;5;28;01mif\u001b[39;00m \u001b[38;5;28misinstance\u001b[39m(obj\u001b[38;5;241m.\u001b[39mindex, MultiIndex):\n",
      "File \u001b[0;32m/opt/anaconda3/lib/python3.12/site-packages/pandas/core/indexes/base.py:2017\u001b[0m, in \u001b[0;36mIndex._get_level_number\u001b[0;34m(self, level)\u001b[0m\n\u001b[1;32m   2016\u001b[0m \u001b[38;5;28;01mdef\u001b[39;00m \u001b[38;5;21m_get_level_number\u001b[39m(\u001b[38;5;28mself\u001b[39m, level) \u001b[38;5;241m-\u001b[39m\u001b[38;5;241m>\u001b[39m \u001b[38;5;28mint\u001b[39m:\n\u001b[0;32m-> 2017\u001b[0m     \u001b[38;5;28mself\u001b[39m\u001b[38;5;241m.\u001b[39m_validate_index_level(level)\n\u001b[1;32m   2018\u001b[0m     \u001b[38;5;28;01mreturn\u001b[39;00m \u001b[38;5;241m0\u001b[39m\n",
      "File \u001b[0;32m/opt/anaconda3/lib/python3.12/site-packages/pandas/core/indexes/base.py:2012\u001b[0m, in \u001b[0;36mIndex._validate_index_level\u001b[0;34m(self, level)\u001b[0m\n\u001b[1;32m   2008\u001b[0m         \u001b[38;5;28;01mraise\u001b[39;00m \u001b[38;5;167;01mIndexError\u001b[39;00m(\n\u001b[1;32m   2009\u001b[0m             \u001b[38;5;124mf\u001b[39m\u001b[38;5;124m\"\u001b[39m\u001b[38;5;124mToo many levels: Index has only 1 level, not \u001b[39m\u001b[38;5;132;01m{\u001b[39;00mlevel\u001b[38;5;250m \u001b[39m\u001b[38;5;241m+\u001b[39m\u001b[38;5;250m \u001b[39m\u001b[38;5;241m1\u001b[39m\u001b[38;5;132;01m}\u001b[39;00m\u001b[38;5;124m\"\u001b[39m\n\u001b[1;32m   2010\u001b[0m         )\n\u001b[1;32m   2011\u001b[0m \u001b[38;5;28;01melif\u001b[39;00m level \u001b[38;5;241m!=\u001b[39m \u001b[38;5;28mself\u001b[39m\u001b[38;5;241m.\u001b[39mname:\n\u001b[0;32m-> 2012\u001b[0m     \u001b[38;5;28;01mraise\u001b[39;00m \u001b[38;5;167;01mKeyError\u001b[39;00m(\n\u001b[1;32m   2013\u001b[0m         \u001b[38;5;124mf\u001b[39m\u001b[38;5;124m\"\u001b[39m\u001b[38;5;124mRequested level (\u001b[39m\u001b[38;5;132;01m{\u001b[39;00mlevel\u001b[38;5;132;01m}\u001b[39;00m\u001b[38;5;124m) does not match index name (\u001b[39m\u001b[38;5;132;01m{\u001b[39;00m\u001b[38;5;28mself\u001b[39m\u001b[38;5;241m.\u001b[39mname\u001b[38;5;132;01m}\u001b[39;00m\u001b[38;5;124m)\u001b[39m\u001b[38;5;124m\"\u001b[39m\n\u001b[1;32m   2014\u001b[0m     )\n",
      "\u001b[0;31mKeyError\u001b[0m: 'Requested level (Region) does not match index name (None)'"
     ]
    }
   ],
   "source": [
    "sales_df.unstack(\"Region\")"
   ]
  },
  {
   "cell_type": "code",
   "execution_count": null,
   "metadata": {},
   "outputs": [],
   "source": []
  }
 ],
 "metadata": {
  "colab": {
   "provenance": []
  },
  "kernelspec": {
   "display_name": "Python 3 (ipykernel)",
   "language": "python",
   "name": "python3"
  },
  "language_info": {
   "codemirror_mode": {
    "name": "ipython",
    "version": 3
   },
   "file_extension": ".py",
   "mimetype": "text/x-python",
   "name": "python",
   "nbconvert_exporter": "python",
   "pygments_lexer": "ipython3",
   "version": "3.12.4"
  },
  "toc": {
   "base_numbering": 1,
   "nav_menu": {},
   "number_sections": true,
   "sideBar": false,
   "skip_h1_title": false,
   "title_cell": "Table of Contents",
   "title_sidebar": "Contents",
   "toc_cell": true,
   "toc_position": {
    "height": "537.273px",
    "left": "304.999px",
    "top": "110.824px",
    "width": "426.996px"
   },
   "toc_section_display": true,
   "toc_window_display": true
  }
 },
 "nbformat": 4,
 "nbformat_minor": 4
}
